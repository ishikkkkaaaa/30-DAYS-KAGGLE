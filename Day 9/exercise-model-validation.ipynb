{
 "cells": [
  {
   "cell_type": "markdown",
   "id": "0f45fdfa",
   "metadata": {
    "papermill": {
     "duration": 0.010922,
     "end_time": "2021-08-12T14:04:02.956796",
     "exception": false,
     "start_time": "2021-08-12T14:04:02.945874",
     "status": "completed"
    },
    "tags": []
   },
   "source": [
    "**This notebook is an exercise in the [Introduction to Machine Learning](https://www.kaggle.com/learn/intro-to-machine-learning) course.  You can reference the tutorial at [this link](https://www.kaggle.com/dansbecker/model-validation).**\n",
    "\n",
    "---\n"
   ]
  },
  {
   "cell_type": "markdown",
   "id": "1422dd85",
   "metadata": {
    "papermill": {
     "duration": 0.009701,
     "end_time": "2021-08-12T14:04:02.977647",
     "exception": false,
     "start_time": "2021-08-12T14:04:02.967946",
     "status": "completed"
    },
    "tags": []
   },
   "source": [
    "## Recap\n",
    "You've built a model. In this exercise you will test how good your model is.\n",
    "\n",
    "Run the cell below to set up your coding environment where the previous exercise left off."
   ]
  },
  {
   "cell_type": "code",
   "execution_count": 1,
   "id": "e87b18c0",
   "metadata": {
    "execution": {
     "iopub.execute_input": "2021-08-12T14:04:03.001454Z",
     "iopub.status.busy": "2021-08-12T14:04:03.000341Z",
     "iopub.status.idle": "2021-08-12T14:04:04.456550Z",
     "shell.execute_reply": "2021-08-12T14:04:04.457314Z",
     "shell.execute_reply.started": "2021-08-12T13:35:52.714838Z"
    },
    "papermill": {
     "duration": 1.470244,
     "end_time": "2021-08-12T14:04:04.457757",
     "exception": false,
     "start_time": "2021-08-12T14:04:02.987513",
     "status": "completed"
    },
    "tags": []
   },
   "outputs": [
    {
     "name": "stdout",
     "output_type": "stream",
     "text": [
      "First in-sample predictions: [208500. 181500. 223500. 140000. 250000.]\n",
      "Actual target values for those homes: [208500, 181500, 223500, 140000, 250000]\n",
      "Setup Complete\n"
     ]
    }
   ],
   "source": [
    "# Code you have previously used to load data\n",
    "import pandas as pd\n",
    "from sklearn.tree import DecisionTreeRegressor\n",
    "\n",
    "# Path of the file to read\n",
    "iowa_file_path = '../input/home-data-for-ml-course/train.csv'\n",
    "\n",
    "home_data = pd.read_csv(iowa_file_path)\n",
    "y = home_data.SalePrice\n",
    "feature_columns = ['LotArea', 'YearBuilt', '1stFlrSF', '2ndFlrSF', 'FullBath', 'BedroomAbvGr', 'TotRmsAbvGrd']\n",
    "X = home_data[feature_columns]\n",
    "\n",
    "# Specify Model\n",
    "iowa_model = DecisionTreeRegressor()\n",
    "# Fit Model\n",
    "iowa_model.fit(X, y)\n",
    "\n",
    "print(\"First in-sample predictions:\", iowa_model.predict(X.head()))\n",
    "print(\"Actual target values for those homes:\", y.head().tolist())\n",
    "\n",
    "# Set up code checking\n",
    "from learntools.core import binder\n",
    "binder.bind(globals())\n",
    "from learntools.machine_learning.ex4 import *\n",
    "print(\"Setup Complete\")"
   ]
  },
  {
   "cell_type": "code",
   "execution_count": 2,
   "id": "188f67c2",
   "metadata": {
    "execution": {
     "iopub.execute_input": "2021-08-12T14:04:04.494803Z",
     "iopub.status.busy": "2021-08-12T14:04:04.493850Z",
     "iopub.status.idle": "2021-08-12T14:04:04.538239Z",
     "shell.execute_reply": "2021-08-12T14:04:04.537684Z",
     "shell.execute_reply.started": "2021-08-12T13:53:49.224393Z"
    },
    "papermill": {
     "duration": 0.062562,
     "end_time": "2021-08-12T14:04:04.538402",
     "exception": false,
     "start_time": "2021-08-12T14:04:04.475840",
     "status": "completed"
    },
    "tags": []
   },
   "outputs": [
    {
     "data": {
      "application/javascript": [
       "parent.postMessage({\"jupyterEvent\": \"custom.exercise_interaction\", \"data\": {\"outcomeType\": 1, \"valueTowardsCompletion\": 0.25, \"interactionType\": 1, \"questionType\": 2, \"questionId\": \"1_SplitData\", \"learnToolsVersion\": \"0.3.4\", \"failureMessage\": \"\", \"exceptionClass\": \"\", \"trace\": \"\"}}, \"*\")"
      ],
      "text/plain": [
       "<IPython.core.display.Javascript object>"
      ]
     },
     "metadata": {},
     "output_type": "display_data"
    },
    {
     "data": {
      "text/markdown": [
       "<span style=\"color:#33cc33\">Correct</span>"
      ],
      "text/plain": [
       "Correct"
      ]
     },
     "metadata": {},
     "output_type": "display_data"
    }
   ],
   "source": [
    "# Import the train_test_split function and uncomment\n",
    "from sklearn.model_selection import train_test_split\n",
    "\n",
    "# fill in and uncomment\n",
    "train_X, val_X, train_y, val_y =train_test_split(X,y,random_state=1)\n",
    "# Check your answer\n",
    "step_1.check()"
   ]
  },
  {
   "cell_type": "code",
   "execution_count": 3,
   "id": "60325db4",
   "metadata": {
    "execution": {
     "iopub.execute_input": "2021-08-12T14:04:04.570033Z",
     "iopub.status.busy": "2021-08-12T14:04:04.568621Z",
     "iopub.status.idle": "2021-08-12T14:04:04.571004Z",
     "shell.execute_reply": "2021-08-12T14:04:04.571452Z",
     "shell.execute_reply.started": "2021-08-12T13:53:57.977609Z"
    },
    "papermill": {
     "duration": 0.019706,
     "end_time": "2021-08-12T14:04:04.571632",
     "exception": false,
     "start_time": "2021-08-12T14:04:04.551926",
     "status": "completed"
    },
    "tags": []
   },
   "outputs": [],
   "source": [
    "# The lines below will show you a hint or the solution.\n",
    "#step_1.hint() \n",
    "#step_1.solution()\n"
   ]
  },
  {
   "cell_type": "markdown",
   "id": "b06a6899",
   "metadata": {
    "papermill": {
     "duration": 0.010726,
     "end_time": "2021-08-12T14:04:04.596044",
     "exception": false,
     "start_time": "2021-08-12T14:04:04.585318",
     "status": "completed"
    },
    "tags": []
   },
   "source": [
    "## Step 2: Specify and Fit the Model\n",
    "\n",
    "Create a `DecisionTreeRegressor` model and fit it to the relevant data.\n",
    "Set `random_state` to 1 again when creating the model."
   ]
  },
  {
   "cell_type": "code",
   "execution_count": 4,
   "id": "f26b9708",
   "metadata": {
    "execution": {
     "iopub.execute_input": "2021-08-12T14:04:04.623444Z",
     "iopub.status.busy": "2021-08-12T14:04:04.622269Z",
     "iopub.status.idle": "2021-08-12T14:04:04.654734Z",
     "shell.execute_reply": "2021-08-12T14:04:04.654202Z",
     "shell.execute_reply.started": "2021-08-12T13:54:58.798861Z"
    },
    "papermill": {
     "duration": 0.047847,
     "end_time": "2021-08-12T14:04:04.654918",
     "exception": false,
     "start_time": "2021-08-12T14:04:04.607071",
     "status": "completed"
    },
    "tags": []
   },
   "outputs": [
    {
     "name": "stdout",
     "output_type": "stream",
     "text": [
      "[186500. 184000. 130000.  92000. 164500. 220000. 335000. 144152. 215000.\n",
      " 262000.]\n",
      "[186500. 184000. 130000.  92000. 164500. 220000. 335000. 144152. 215000.\n",
      " 262000.]\n"
     ]
    },
    {
     "data": {
      "application/javascript": [
       "parent.postMessage({\"jupyterEvent\": \"custom.exercise_interaction\", \"data\": {\"outcomeType\": 1, \"valueTowardsCompletion\": 0.25, \"interactionType\": 1, \"questionType\": 2, \"questionId\": \"2_FitModelWithTrain\", \"learnToolsVersion\": \"0.3.4\", \"failureMessage\": \"\", \"exceptionClass\": \"\", \"trace\": \"\"}}, \"*\")"
      ],
      "text/plain": [
       "<IPython.core.display.Javascript object>"
      ]
     },
     "metadata": {},
     "output_type": "display_data"
    },
    {
     "data": {
      "text/markdown": [
       "<span style=\"color:#33cc33\">Correct</span>"
      ],
      "text/plain": [
       "Correct"
      ]
     },
     "metadata": {},
     "output_type": "display_data"
    }
   ],
   "source": [
    "# You imported DecisionTreeRegressor in your last exercise\n",
    "# and that code has been copied to the setup code above. So, no need to\n",
    "# import it again\n",
    "\n",
    "# Specify the model\n",
    "iowa_model = DecisionTreeRegressor(random_state=1)\n",
    "# Fit iowa_model with the training data.\n",
    "iowa_model.fit(train_X, train_y)\n",
    "\n",
    "# Check your answer\n",
    "step_2.check()"
   ]
  },
  {
   "cell_type": "code",
   "execution_count": 5,
   "id": "53c64311",
   "metadata": {
    "execution": {
     "iopub.execute_input": "2021-08-12T14:04:04.684502Z",
     "iopub.status.busy": "2021-08-12T14:04:04.683807Z",
     "iopub.status.idle": "2021-08-12T14:04:04.686637Z",
     "shell.execute_reply": "2021-08-12T14:04:04.686197Z",
     "shell.execute_reply.started": "2021-08-12T13:55:05.187328Z"
    },
    "papermill": {
     "duration": 0.01918,
     "end_time": "2021-08-12T14:04:04.686784",
     "exception": false,
     "start_time": "2021-08-12T14:04:04.667604",
     "status": "completed"
    },
    "tags": []
   },
   "outputs": [],
   "source": [
    "#step_2.hint()\n",
    "#step_2.solution()"
   ]
  },
  {
   "cell_type": "markdown",
   "id": "6f26a22a",
   "metadata": {
    "papermill": {
     "duration": 0.011532,
     "end_time": "2021-08-12T14:04:04.710495",
     "exception": false,
     "start_time": "2021-08-12T14:04:04.698963",
     "status": "completed"
    },
    "tags": []
   },
   "source": [
    "## Step 3: Make Predictions with Validation data\n"
   ]
  },
  {
   "cell_type": "code",
   "execution_count": 6,
   "id": "29e8f6e8",
   "metadata": {
    "execution": {
     "iopub.execute_input": "2021-08-12T14:04:04.744206Z",
     "iopub.status.busy": "2021-08-12T14:04:04.743329Z",
     "iopub.status.idle": "2021-08-12T14:04:04.750804Z",
     "shell.execute_reply": "2021-08-12T14:04:04.750313Z",
     "shell.execute_reply.started": "2021-08-12T13:56:54.121441Z"
    },
    "papermill": {
     "duration": 0.028458,
     "end_time": "2021-08-12T14:04:04.750960",
     "exception": false,
     "start_time": "2021-08-12T14:04:04.722502",
     "status": "completed"
    },
    "tags": []
   },
   "outputs": [
    {
     "data": {
      "application/javascript": [
       "parent.postMessage({\"jupyterEvent\": \"custom.exercise_interaction\", \"data\": {\"outcomeType\": 1, \"valueTowardsCompletion\": 0.25, \"interactionType\": 1, \"questionType\": 2, \"questionId\": \"3_ValPreds\", \"learnToolsVersion\": \"0.3.4\", \"failureMessage\": \"\", \"exceptionClass\": \"\", \"trace\": \"\"}}, \"*\")"
      ],
      "text/plain": [
       "<IPython.core.display.Javascript object>"
      ]
     },
     "metadata": {},
     "output_type": "display_data"
    },
    {
     "data": {
      "text/markdown": [
       "<span style=\"color:#33cc33\">Correct</span>"
      ],
      "text/plain": [
       "Correct"
      ]
     },
     "metadata": {},
     "output_type": "display_data"
    }
   ],
   "source": [
    "# Predict with all validation observations\n",
    "val_predictions = iowa_model.predict(val_X)\n",
    "\n",
    "# Check your answer\n",
    "step_3.check()"
   ]
  },
  {
   "cell_type": "code",
   "execution_count": 7,
   "id": "7cd2169d",
   "metadata": {
    "execution": {
     "iopub.execute_input": "2021-08-12T14:04:04.781678Z",
     "iopub.status.busy": "2021-08-12T14:04:04.781074Z",
     "iopub.status.idle": "2021-08-12T14:04:04.786936Z",
     "shell.execute_reply": "2021-08-12T14:04:04.786347Z",
     "shell.execute_reply.started": "2021-08-12T13:56:56.644815Z"
    },
    "papermill": {
     "duration": 0.02329,
     "end_time": "2021-08-12T14:04:04.787104",
     "exception": false,
     "start_time": "2021-08-12T14:04:04.763814",
     "status": "completed"
    },
    "tags": []
   },
   "outputs": [
    {
     "data": {
      "application/javascript": [
       "parent.postMessage({\"jupyterEvent\": \"custom.exercise_interaction\", \"data\": {\"interactionType\": 3, \"questionType\": 2, \"questionId\": \"3_ValPreds\", \"learnToolsVersion\": \"0.3.4\", \"valueTowardsCompletion\": 0.0, \"failureMessage\": \"\", \"exceptionClass\": \"\", \"trace\": \"\", \"outcomeType\": 4}}, \"*\")"
      ],
      "text/plain": [
       "<IPython.core.display.Javascript object>"
      ]
     },
     "metadata": {},
     "output_type": "display_data"
    },
    {
     "data": {
      "text/markdown": [
       "<span style=\"color:#33cc99\">Solution:</span> \n",
       "```python\n",
       "val_predictions = iowa_model.predict(val_X)\n",
       "```"
      ],
      "text/plain": [
       "Solution: \n",
       "```python\n",
       "val_predictions = iowa_model.predict(val_X)\n",
       "```"
      ]
     },
     "metadata": {},
     "output_type": "display_data"
    }
   ],
   "source": [
    "# step_3.hint()\n",
    "step_3.solution()"
   ]
  },
  {
   "cell_type": "markdown",
   "id": "a55f9ac6",
   "metadata": {
    "papermill": {
     "duration": 0.013568,
     "end_time": "2021-08-12T14:04:04.814403",
     "exception": false,
     "start_time": "2021-08-12T14:04:04.800835",
     "status": "completed"
    },
    "tags": []
   },
   "source": [
    "Inspect your predictions and actual values from validation data."
   ]
  },
  {
   "cell_type": "code",
   "execution_count": 8,
   "id": "c371abf8",
   "metadata": {
    "execution": {
     "iopub.execute_input": "2021-08-12T14:04:04.849471Z",
     "iopub.status.busy": "2021-08-12T14:04:04.848760Z",
     "iopub.status.idle": "2021-08-12T14:04:04.852623Z",
     "shell.execute_reply": "2021-08-12T14:04:04.852073Z",
     "shell.execute_reply.started": "2021-08-12T14:02:13.750341Z"
    },
    "papermill": {
     "duration": 0.025098,
     "end_time": "2021-08-12T14:04:04.852766",
     "exception": false,
     "start_time": "2021-08-12T14:04:04.827668",
     "status": "completed"
    },
    "tags": []
   },
   "outputs": [
    {
     "name": "stdout",
     "output_type": "stream",
     "text": [
      "[186500. 184000. 130000.  92000. 164500. 220000. 335000. 144152.]\n",
      "[231500, 179500, 122000, 84500, 142000, 325624, 285000, 151000]\n"
     ]
    }
   ],
   "source": [
    "# print the top few validation predictions\n",
    "print(iowa_model.predict(val_X.head(8)))\n",
    "# print the top few actual prices from validation data\n",
    "print(val_y.head(8).tolist())"
   ]
  },
  {
   "cell_type": "markdown",
   "id": "e6716f2e",
   "metadata": {
    "papermill": {
     "duration": 0.013573,
     "end_time": "2021-08-12T14:04:04.881029",
     "exception": false,
     "start_time": "2021-08-12T14:04:04.867456",
     "status": "completed"
    },
    "tags": []
   },
   "source": [
    "What do you notice that is different from what you saw with in-sample predictions (which are printed after the top code cell in this page).\n",
    "\n",
    "Do you remember why validation predictions differ from in-sample (or training) predictions? This is an important idea from the last lesson.\n",
    "\n",
    "## Step 4: Calculate the Mean Absolute Error in Validation Data\n"
   ]
  },
  {
   "cell_type": "code",
   "execution_count": 9,
   "id": "84960009",
   "metadata": {
    "execution": {
     "iopub.execute_input": "2021-08-12T14:04:04.919867Z",
     "iopub.status.busy": "2021-08-12T14:04:04.918911Z",
     "iopub.status.idle": "2021-08-12T14:04:04.924872Z",
     "shell.execute_reply": "2021-08-12T14:04:04.925352Z",
     "shell.execute_reply.started": "2021-08-12T14:02:52.634066Z"
    },
    "papermill": {
     "duration": 0.029446,
     "end_time": "2021-08-12T14:04:04.925543",
     "exception": false,
     "start_time": "2021-08-12T14:04:04.896097",
     "status": "completed"
    },
    "tags": []
   },
   "outputs": [
    {
     "data": {
      "application/javascript": [
       "parent.postMessage({\"jupyterEvent\": \"custom.exercise_interaction\", \"data\": {\"outcomeType\": 1, \"valueTowardsCompletion\": 0.25, \"interactionType\": 1, \"questionType\": 1, \"questionId\": \"4_MAE\", \"learnToolsVersion\": \"0.3.4\", \"failureMessage\": \"\", \"exceptionClass\": \"\", \"trace\": \"\"}}, \"*\")"
      ],
      "text/plain": [
       "<IPython.core.display.Javascript object>"
      ]
     },
     "metadata": {},
     "output_type": "display_data"
    },
    {
     "data": {
      "text/markdown": [
       "<span style=\"color:#33cc33\">Correct</span>"
      ],
      "text/plain": [
       "Correct"
      ]
     },
     "metadata": {},
     "output_type": "display_data"
    }
   ],
   "source": [
    "from sklearn.metrics import mean_absolute_error\n",
    "val_mae = ____\n",
    "\n",
    "# uncomment following line to see the validation_mae\n",
    "val_mae = mean_absolute_error(val_predictions, val_y)\n",
    "\n",
    "# Check your answer\n",
    "step_4.check()"
   ]
  },
  {
   "cell_type": "code",
   "execution_count": 10,
   "id": "204b9af1",
   "metadata": {
    "execution": {
     "iopub.execute_input": "2021-08-12T14:04:04.960407Z",
     "iopub.status.busy": "2021-08-12T14:04:04.959738Z",
     "iopub.status.idle": "2021-08-12T14:04:04.963511Z",
     "shell.execute_reply": "2021-08-12T14:04:04.962970Z",
     "shell.execute_reply.started": "2021-08-12T14:02:55.412638Z"
    },
    "papermill": {
     "duration": 0.023401,
     "end_time": "2021-08-12T14:04:04.963665",
     "exception": false,
     "start_time": "2021-08-12T14:04:04.940264",
     "status": "completed"
    },
    "tags": []
   },
   "outputs": [],
   "source": [
    "# step_4.hint()\n",
    "#step_4.solution()"
   ]
  },
  {
   "cell_type": "markdown",
   "id": "da2e96f9",
   "metadata": {
    "papermill": {
     "duration": 0.014171,
     "end_time": "2021-08-12T14:04:04.993117",
     "exception": false,
     "start_time": "2021-08-12T14:04:04.978946",
     "status": "completed"
    },
    "tags": []
   },
   "source": [
    "Is that MAE good?  There isn't a general rule for what values are good that applies across applications. But you'll see how to use (and improve) this number in the next step.\n",
    "\n",
    "# Keep Going\n",
    "\n",
    "You are ready for **[Underfitting and Overfitting](https://www.kaggle.com/dansbecker/underfitting-and-overfitting).**\n"
   ]
  },
  {
   "cell_type": "markdown",
   "id": "ebf08efa",
   "metadata": {
    "papermill": {
     "duration": 0.014194,
     "end_time": "2021-08-12T14:04:05.022829",
     "exception": false,
     "start_time": "2021-08-12T14:04:05.008635",
     "status": "completed"
    },
    "tags": []
   },
   "source": [
    "---\n",
    "\n",
    "\n",
    "\n",
    "\n",
    "*Have questions or comments? Visit the [Learn Discussion forum](https://www.kaggle.com/learn-forum/161285) to chat with other Learners.*"
   ]
  }
 ],
 "metadata": {
  "kernelspec": {
   "display_name": "Python 3",
   "language": "python",
   "name": "python3"
  },
  "language_info": {
   "codemirror_mode": {
    "name": "ipython",
    "version": 3
   },
   "file_extension": ".py",
   "mimetype": "text/x-python",
   "name": "python",
   "nbconvert_exporter": "python",
   "pygments_lexer": "ipython3",
   "version": "3.7.10"
  },
  "papermill": {
   "default_parameters": {},
   "duration": 10.772832,
   "end_time": "2021-08-12T14:04:06.313938",
   "environment_variables": {},
   "exception": null,
   "input_path": "__notebook__.ipynb",
   "output_path": "__notebook__.ipynb",
   "parameters": {},
   "start_time": "2021-08-12T14:03:55.541106",
   "version": "2.3.3"
  }
 },
 "nbformat": 4,
 "nbformat_minor": 5
}
