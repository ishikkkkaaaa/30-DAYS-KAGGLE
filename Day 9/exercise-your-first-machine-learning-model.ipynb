{
 "cells": [
  {
   "cell_type": "markdown",
   "id": "eec11147",
   "metadata": {
    "papermill": {
     "duration": 0.018036,
     "end_time": "2021-08-12T13:27:32.530422",
     "exception": false,
     "start_time": "2021-08-12T13:27:32.512386",
     "status": "completed"
    },
    "tags": []
   },
   "source": [
    "**This notebook is an exercise in the [Introduction to Machine Learning](https://www.kaggle.com/learn/intro-to-machine-learning) course.  You can reference the tutorial at [this link](https://www.kaggle.com/dansbecker/your-first-machine-learning-model).**\n",
    "\n",
    "---\n"
   ]
  },
  {
   "cell_type": "markdown",
   "id": "7bfbc24a",
   "metadata": {
    "papermill": {
     "duration": 0.016468,
     "end_time": "2021-08-12T13:27:32.565118",
     "exception": false,
     "start_time": "2021-08-12T13:27:32.548650",
     "status": "completed"
    },
    "tags": []
   },
   "source": [
    "## Recap\n",
    "So far, you have loaded your data and reviewed it with the following code. Run this cell to set up your coding environment where the previous step left off."
   ]
  },
  {
   "cell_type": "code",
   "execution_count": 1,
   "id": "082ff6ef",
   "metadata": {
    "execution": {
     "iopub.execute_input": "2021-08-12T13:27:32.614137Z",
     "iopub.status.busy": "2021-08-12T13:27:32.613287Z",
     "iopub.status.idle": "2021-08-12T13:27:34.031341Z",
     "shell.execute_reply": "2021-08-12T13:27:34.030403Z",
     "shell.execute_reply.started": "2021-08-12T13:11:41.879064Z"
    },
    "papermill": {
     "duration": 1.449913,
     "end_time": "2021-08-12T13:27:34.031602",
     "exception": false,
     "start_time": "2021-08-12T13:27:32.581689",
     "status": "completed"
    },
    "tags": []
   },
   "outputs": [
    {
     "name": "stdout",
     "output_type": "stream",
     "text": [
      "Setup Complete\n"
     ]
    }
   ],
   "source": [
    "# Code you have previously used to load data\n",
    "import pandas as pd\n",
    "\n",
    "# Path of the file to read\n",
    "iowa_file_path = '../input/home-data-for-ml-course/train.csv'\n",
    "\n",
    "home_data = pd.read_csv(iowa_file_path)\n",
    "\n",
    "# Set up code checking\n",
    "from learntools.core import binder\n",
    "binder.bind(globals())\n",
    "from learntools.machine_learning.ex3 import *\n",
    "\n",
    "print(\"Setup Complete\")"
   ]
  },
  {
   "cell_type": "markdown",
   "id": "b8fee5ad",
   "metadata": {
    "papermill": {
     "duration": 0.016541,
     "end_time": "2021-08-12T13:27:34.065620",
     "exception": false,
     "start_time": "2021-08-12T13:27:34.049079",
     "status": "completed"
    },
    "tags": []
   },
   "source": [
    "# Exercises\n",
    "\n",
    "## Step 1: Specify Prediction Target\n",
    "Select the target variable, which corresponds to the sales price. Save this to a new variable called `y`. You'll need to print a list of the columns to find the name of the column you need.\n"
   ]
  },
  {
   "cell_type": "code",
   "execution_count": 2,
   "id": "d65c3832",
   "metadata": {
    "execution": {
     "iopub.execute_input": "2021-08-12T13:27:34.112524Z",
     "iopub.status.busy": "2021-08-12T13:27:34.111466Z",
     "iopub.status.idle": "2021-08-12T13:27:34.117765Z",
     "shell.execute_reply": "2021-08-12T13:27:34.117030Z",
     "shell.execute_reply.started": "2021-08-12T13:11:43.174855Z"
    },
    "papermill": {
     "duration": 0.034203,
     "end_time": "2021-08-12T13:27:34.117934",
     "exception": false,
     "start_time": "2021-08-12T13:27:34.083731",
     "status": "completed"
    },
    "tags": []
   },
   "outputs": [
    {
     "data": {
      "text/plain": [
       "Index(['Id', 'MSSubClass', 'MSZoning', 'LotFrontage', 'LotArea', 'Street',\n",
       "       'Alley', 'LotShape', 'LandContour', 'Utilities', 'LotConfig',\n",
       "       'LandSlope', 'Neighborhood', 'Condition1', 'Condition2', 'BldgType',\n",
       "       'HouseStyle', 'OverallQual', 'OverallCond', 'YearBuilt', 'YearRemodAdd',\n",
       "       'RoofStyle', 'RoofMatl', 'Exterior1st', 'Exterior2nd', 'MasVnrType',\n",
       "       'MasVnrArea', 'ExterQual', 'ExterCond', 'Foundation', 'BsmtQual',\n",
       "       'BsmtCond', 'BsmtExposure', 'BsmtFinType1', 'BsmtFinSF1',\n",
       "       'BsmtFinType2', 'BsmtFinSF2', 'BsmtUnfSF', 'TotalBsmtSF', 'Heating',\n",
       "       'HeatingQC', 'CentralAir', 'Electrical', '1stFlrSF', '2ndFlrSF',\n",
       "       'LowQualFinSF', 'GrLivArea', 'BsmtFullBath', 'BsmtHalfBath', 'FullBath',\n",
       "       'HalfBath', 'BedroomAbvGr', 'KitchenAbvGr', 'KitchenQual',\n",
       "       'TotRmsAbvGrd', 'Functional', 'Fireplaces', 'FireplaceQu', 'GarageType',\n",
       "       'GarageYrBlt', 'GarageFinish', 'GarageCars', 'GarageArea', 'GarageQual',\n",
       "       'GarageCond', 'PavedDrive', 'WoodDeckSF', 'OpenPorchSF',\n",
       "       'EnclosedPorch', '3SsnPorch', 'ScreenPorch', 'PoolArea', 'PoolQC',\n",
       "       'Fence', 'MiscFeature', 'MiscVal', 'MoSold', 'YrSold', 'SaleType',\n",
       "       'SaleCondition', 'SalePrice'],\n",
       "      dtype='object')"
      ]
     },
     "execution_count": 2,
     "metadata": {},
     "output_type": "execute_result"
    }
   ],
   "source": [
    "# print the list of columns in the dataset to find the name of the prediction target\n",
    "home_data.columns"
   ]
  },
  {
   "cell_type": "code",
   "execution_count": 3,
   "id": "aedd9a2c",
   "metadata": {
    "execution": {
     "iopub.execute_input": "2021-08-12T13:27:34.165683Z",
     "iopub.status.busy": "2021-08-12T13:27:34.164645Z",
     "iopub.status.idle": "2021-08-12T13:27:34.172648Z",
     "shell.execute_reply": "2021-08-12T13:27:34.172077Z",
     "shell.execute_reply.started": "2021-08-12T13:11:43.188468Z"
    },
    "papermill": {
     "duration": 0.037201,
     "end_time": "2021-08-12T13:27:34.172789",
     "exception": false,
     "start_time": "2021-08-12T13:27:34.135588",
     "status": "completed"
    },
    "tags": []
   },
   "outputs": [
    {
     "data": {
      "application/javascript": [
       "parent.postMessage({\"jupyterEvent\": \"custom.exercise_interaction\", \"data\": {\"outcomeType\": 1, \"valueTowardsCompletion\": 0.25, \"interactionType\": 1, \"questionType\": 2, \"questionId\": \"1_SetTarget\", \"learnToolsVersion\": \"0.3.4\", \"failureMessage\": \"\", \"exceptionClass\": \"\", \"trace\": \"\"}}, \"*\")"
      ],
      "text/plain": [
       "<IPython.core.display.Javascript object>"
      ]
     },
     "metadata": {},
     "output_type": "display_data"
    },
    {
     "data": {
      "text/markdown": [
       "<span style=\"color:#33cc33\">Correct</span>"
      ],
      "text/plain": [
       "Correct"
      ]
     },
     "metadata": {},
     "output_type": "display_data"
    }
   ],
   "source": [
    "y = home_data.SalePrice\n",
    "\n",
    "# Check your answer\n",
    "step_1.check()"
   ]
  },
  {
   "cell_type": "code",
   "execution_count": 4,
   "id": "6544a70f",
   "metadata": {
    "execution": {
     "iopub.execute_input": "2021-08-12T13:27:34.217011Z",
     "iopub.status.busy": "2021-08-12T13:27:34.216272Z",
     "iopub.status.idle": "2021-08-12T13:27:34.219087Z",
     "shell.execute_reply": "2021-08-12T13:27:34.218541Z",
     "shell.execute_reply.started": "2021-08-12T13:11:43.211341Z"
    },
    "papermill": {
     "duration": 0.026954,
     "end_time": "2021-08-12T13:27:34.219232",
     "exception": false,
     "start_time": "2021-08-12T13:27:34.192278",
     "status": "completed"
    },
    "tags": []
   },
   "outputs": [],
   "source": [
    "# The lines below will show you a hint or the solution.\n",
    "# step_1.hint() \n",
    "#step_1.solution()"
   ]
  },
  {
   "cell_type": "markdown",
   "id": "3751e7b6",
   "metadata": {
    "papermill": {
     "duration": 0.01798,
     "end_time": "2021-08-12T13:27:34.255455",
     "exception": false,
     "start_time": "2021-08-12T13:27:34.237475",
     "status": "completed"
    },
    "tags": []
   },
   "source": [
    "## Step 2: Create X\n",
    "Now you will create a DataFrame called `X` holding the predictive features.\n",
    "\n",
    "Since you want only some columns from the original data, you'll first create a list with the names of the columns you want in `X`.\n",
    "\n",
    "You'll use just the following columns in the list (you can copy and paste the whole list to save some typing, though you'll still need to add quotes):\n",
    "    * LotArea\n",
    "    * YearBuilt\n",
    "    * 1stFlrSF\n",
    "    * 2ndFlrSF\n",
    "    * FullBath\n",
    "    * BedroomAbvGr\n",
    "    * TotRmsAbvGrd\n",
    "\n",
    "After you've created that list of features, use it to create the DataFrame that you'll use to fit the model."
   ]
  },
  {
   "cell_type": "code",
   "execution_count": 5,
   "id": "71a37fc2",
   "metadata": {
    "execution": {
     "iopub.execute_input": "2021-08-12T13:27:34.295683Z",
     "iopub.status.busy": "2021-08-12T13:27:34.295049Z",
     "iopub.status.idle": "2021-08-12T13:27:34.307455Z",
     "shell.execute_reply": "2021-08-12T13:27:34.306897Z",
     "shell.execute_reply.started": "2021-08-12T13:13:36.989721Z"
    },
    "papermill": {
     "duration": 0.033224,
     "end_time": "2021-08-12T13:27:34.307605",
     "exception": false,
     "start_time": "2021-08-12T13:27:34.274381",
     "status": "completed"
    },
    "tags": []
   },
   "outputs": [
    {
     "data": {
      "application/javascript": [
       "parent.postMessage({\"jupyterEvent\": \"custom.exercise_interaction\", \"data\": {\"outcomeType\": 1, \"valueTowardsCompletion\": 0.25, \"interactionType\": 1, \"questionType\": 2, \"questionId\": \"2_SelectPredictionData\", \"learnToolsVersion\": \"0.3.4\", \"failureMessage\": \"\", \"exceptionClass\": \"\", \"trace\": \"\"}}, \"*\")"
      ],
      "text/plain": [
       "<IPython.core.display.Javascript object>"
      ]
     },
     "metadata": {},
     "output_type": "display_data"
    },
    {
     "data": {
      "text/markdown": [
       "<span style=\"color:#33cc33\">Correct</span>"
      ],
      "text/plain": [
       "Correct"
      ]
     },
     "metadata": {},
     "output_type": "display_data"
    }
   ],
   "source": [
    "# Create the list of features below\n",
    "feature_names = [\"LotArea\", \"YearBuilt\", \"1stFlrSF\", \"2ndFlrSF\",\"FullBath\", \"BedroomAbvGr\", \"TotRmsAbvGrd\"]\n",
    "\n",
    "# Select data corresponding to features in feature_names\n",
    "X = home_data[feature_names]\n",
    "\n",
    "# Check your answer\n",
    "step_2.check()"
   ]
  },
  {
   "cell_type": "code",
   "execution_count": 6,
   "id": "4f0265c6",
   "metadata": {
    "execution": {
     "iopub.execute_input": "2021-08-12T13:27:34.352656Z",
     "iopub.status.busy": "2021-08-12T13:27:34.352015Z",
     "iopub.status.idle": "2021-08-12T13:27:34.355558Z",
     "shell.execute_reply": "2021-08-12T13:27:34.354999Z",
     "shell.execute_reply.started": "2021-08-12T13:13:45.556007Z"
    },
    "papermill": {
     "duration": 0.027271,
     "end_time": "2021-08-12T13:27:34.355691",
     "exception": false,
     "start_time": "2021-08-12T13:27:34.328420",
     "status": "completed"
    },
    "tags": []
   },
   "outputs": [],
   "source": [
    "# step_2.hint()\n",
    "\n",
    "#step_2.solution()"
   ]
  },
  {
   "cell_type": "markdown",
   "id": "974a6252",
   "metadata": {
    "papermill": {
     "duration": 0.020675,
     "end_time": "2021-08-12T13:27:34.395778",
     "exception": false,
     "start_time": "2021-08-12T13:27:34.375103",
     "status": "completed"
    },
    "tags": []
   },
   "source": [
    "## Review Data\n",
    "Before building a model, take a quick look at **X** to verify it looks sensible"
   ]
  },
  {
   "cell_type": "code",
   "execution_count": 7,
   "id": "f2d3abcb",
   "metadata": {
    "execution": {
     "iopub.execute_input": "2021-08-12T13:27:34.441366Z",
     "iopub.status.busy": "2021-08-12T13:27:34.440656Z",
     "iopub.status.idle": "2021-08-12T13:27:34.467853Z",
     "shell.execute_reply": "2021-08-12T13:27:34.468618Z",
     "shell.execute_reply.started": "2021-08-12T13:14:22.375300Z"
    },
    "papermill": {
     "duration": 0.053257,
     "end_time": "2021-08-12T13:27:34.468826",
     "exception": false,
     "start_time": "2021-08-12T13:27:34.415569",
     "status": "completed"
    },
    "tags": []
   },
   "outputs": [
    {
     "name": "stdout",
     "output_type": "stream",
     "text": [
      "<bound method NDFrame.describe of         Id  MSSubClass MSZoning  LotFrontage  LotArea Street Alley LotShape  \\\n",
      "0        1          60       RL         65.0     8450   Pave   NaN      Reg   \n",
      "1        2          20       RL         80.0     9600   Pave   NaN      Reg   \n",
      "2        3          60       RL         68.0    11250   Pave   NaN      IR1   \n",
      "3        4          70       RL         60.0     9550   Pave   NaN      IR1   \n",
      "4        5          60       RL         84.0    14260   Pave   NaN      IR1   \n",
      "...    ...         ...      ...          ...      ...    ...   ...      ...   \n",
      "1455  1456          60       RL         62.0     7917   Pave   NaN      Reg   \n",
      "1456  1457          20       RL         85.0    13175   Pave   NaN      Reg   \n",
      "1457  1458          70       RL         66.0     9042   Pave   NaN      Reg   \n",
      "1458  1459          20       RL         68.0     9717   Pave   NaN      Reg   \n",
      "1459  1460          20       RL         75.0     9937   Pave   NaN      Reg   \n",
      "\n",
      "     LandContour Utilities  ... PoolArea PoolQC  Fence MiscFeature MiscVal  \\\n",
      "0            Lvl    AllPub  ...        0    NaN    NaN         NaN       0   \n",
      "1            Lvl    AllPub  ...        0    NaN    NaN         NaN       0   \n",
      "2            Lvl    AllPub  ...        0    NaN    NaN         NaN       0   \n",
      "3            Lvl    AllPub  ...        0    NaN    NaN         NaN       0   \n",
      "4            Lvl    AllPub  ...        0    NaN    NaN         NaN       0   \n",
      "...          ...       ...  ...      ...    ...    ...         ...     ...   \n",
      "1455         Lvl    AllPub  ...        0    NaN    NaN         NaN       0   \n",
      "1456         Lvl    AllPub  ...        0    NaN  MnPrv         NaN       0   \n",
      "1457         Lvl    AllPub  ...        0    NaN  GdPrv        Shed    2500   \n",
      "1458         Lvl    AllPub  ...        0    NaN    NaN         NaN       0   \n",
      "1459         Lvl    AllPub  ...        0    NaN    NaN         NaN       0   \n",
      "\n",
      "     MoSold YrSold  SaleType  SaleCondition  SalePrice  \n",
      "0         2   2008        WD         Normal     208500  \n",
      "1         5   2007        WD         Normal     181500  \n",
      "2         9   2008        WD         Normal     223500  \n",
      "3         2   2006        WD        Abnorml     140000  \n",
      "4        12   2008        WD         Normal     250000  \n",
      "...     ...    ...       ...            ...        ...  \n",
      "1455      8   2007        WD         Normal     175000  \n",
      "1456      2   2010        WD         Normal     210000  \n",
      "1457      5   2010        WD         Normal     266500  \n",
      "1458      4   2010        WD         Normal     142125  \n",
      "1459      6   2008        WD         Normal     147500  \n",
      "\n",
      "[1460 rows x 81 columns]>\n"
     ]
    }
   ],
   "source": [
    "# Review data\n",
    "# print description or statistics from X\n",
    "print(home_data.describe)\n",
    "\n"
   ]
  },
  {
   "cell_type": "code",
   "execution_count": 8,
   "id": "cbca80ab",
   "metadata": {
    "execution": {
     "iopub.execute_input": "2021-08-12T13:27:34.525578Z",
     "iopub.status.busy": "2021-08-12T13:27:34.524754Z",
     "iopub.status.idle": "2021-08-12T13:27:34.532744Z",
     "shell.execute_reply": "2021-08-12T13:27:34.533284Z",
     "shell.execute_reply.started": "2021-08-12T13:14:34.098849Z"
    },
    "papermill": {
     "duration": 0.043837,
     "end_time": "2021-08-12T13:27:34.533469",
     "exception": false,
     "start_time": "2021-08-12T13:27:34.489632",
     "status": "completed"
    },
    "tags": []
   },
   "outputs": [
    {
     "name": "stdout",
     "output_type": "stream",
     "text": [
      "   Id  MSSubClass MSZoning  LotFrontage  LotArea Street Alley LotShape  \\\n",
      "0   1          60       RL         65.0     8450   Pave   NaN      Reg   \n",
      "1   2          20       RL         80.0     9600   Pave   NaN      Reg   \n",
      "2   3          60       RL         68.0    11250   Pave   NaN      IR1   \n",
      "3   4          70       RL         60.0     9550   Pave   NaN      IR1   \n",
      "4   5          60       RL         84.0    14260   Pave   NaN      IR1   \n",
      "\n",
      "  LandContour Utilities  ... PoolArea PoolQC Fence MiscFeature MiscVal MoSold  \\\n",
      "0         Lvl    AllPub  ...        0    NaN   NaN         NaN       0      2   \n",
      "1         Lvl    AllPub  ...        0    NaN   NaN         NaN       0      5   \n",
      "2         Lvl    AllPub  ...        0    NaN   NaN         NaN       0      9   \n",
      "3         Lvl    AllPub  ...        0    NaN   NaN         NaN       0      2   \n",
      "4         Lvl    AllPub  ...        0    NaN   NaN         NaN       0     12   \n",
      "\n",
      "  YrSold  SaleType  SaleCondition  SalePrice  \n",
      "0   2008        WD         Normal     208500  \n",
      "1   2007        WD         Normal     181500  \n",
      "2   2008        WD         Normal     223500  \n",
      "3   2006        WD        Abnorml     140000  \n",
      "4   2008        WD         Normal     250000  \n",
      "\n",
      "[5 rows x 81 columns]\n"
     ]
    }
   ],
   "source": [
    "# print the top few lines\n",
    "print(home_data.head())"
   ]
  },
  {
   "cell_type": "markdown",
   "id": "536374c6",
   "metadata": {
    "papermill": {
     "duration": 0.019511,
     "end_time": "2021-08-12T13:27:34.572654",
     "exception": false,
     "start_time": "2021-08-12T13:27:34.553143",
     "status": "completed"
    },
    "tags": []
   },
   "source": [
    "## Step 3: Specify and Fit Model\n",
    "Create a `DecisionTreeRegressor` and save it iowa_model. Ensure you've done the relevant import from sklearn to run this command.\n",
    "\n",
    "Then fit the model you just created using the data in `X` and `y` that you saved above."
   ]
  },
  {
   "cell_type": "code",
   "execution_count": 9,
   "id": "4e6f3ad6",
   "metadata": {
    "execution": {
     "iopub.execute_input": "2021-08-12T13:27:34.623786Z",
     "iopub.status.busy": "2021-08-12T13:27:34.622820Z",
     "iopub.status.idle": "2021-08-12T13:27:34.636930Z",
     "shell.execute_reply": "2021-08-12T13:27:34.636287Z",
     "shell.execute_reply.started": "2021-08-12T13:17:44.185414Z"
    },
    "papermill": {
     "duration": 0.043842,
     "end_time": "2021-08-12T13:27:34.637067",
     "exception": false,
     "start_time": "2021-08-12T13:27:34.593225",
     "status": "completed"
    },
    "tags": []
   },
   "outputs": [
    {
     "data": {
      "application/javascript": [
       "parent.postMessage({\"jupyterEvent\": \"custom.exercise_interaction\", \"data\": {\"outcomeType\": 1, \"valueTowardsCompletion\": 0.25, \"interactionType\": 1, \"questionType\": 2, \"questionId\": \"3_CreateModel\", \"learnToolsVersion\": \"0.3.4\", \"failureMessage\": \"\", \"exceptionClass\": \"\", \"trace\": \"\"}}, \"*\")"
      ],
      "text/plain": [
       "<IPython.core.display.Javascript object>"
      ]
     },
     "metadata": {},
     "output_type": "display_data"
    },
    {
     "data": {
      "text/markdown": [
       "<span style=\"color:#33cc33\">Correct</span>"
      ],
      "text/plain": [
       "Correct"
      ]
     },
     "metadata": {},
     "output_type": "display_data"
    }
   ],
   "source": [
    "# from _ import _\n",
    "#specify the model\n",
    "from sklearn.tree import DecisionTreeRegressor\n",
    "#For model reproducibility, set a numeric value for random_state when specifying the model\n",
    "iowa_model = DecisionTreeRegressor(random_state=101)\n",
    "\n",
    "# Fit the model\n",
    "iowa_model.fit(X,y)\n",
    "\n",
    "# Check your answer\n",
    "step_3.check()"
   ]
  },
  {
   "cell_type": "code",
   "execution_count": 10,
   "id": "2e1f7873",
   "metadata": {
    "execution": {
     "iopub.execute_input": "2021-08-12T13:27:34.684219Z",
     "iopub.status.busy": "2021-08-12T13:27:34.683446Z",
     "iopub.status.idle": "2021-08-12T13:27:34.688198Z",
     "shell.execute_reply": "2021-08-12T13:27:34.689310Z",
     "shell.execute_reply.started": "2021-08-12T13:17:48.978741Z"
    },
    "papermill": {
     "duration": 0.031213,
     "end_time": "2021-08-12T13:27:34.689571",
     "exception": false,
     "start_time": "2021-08-12T13:27:34.658358",
     "status": "completed"
    },
    "tags": []
   },
   "outputs": [],
   "source": [
    "# step_3.hint()\n",
    "#step_3.solution()"
   ]
  },
  {
   "cell_type": "markdown",
   "id": "da7c43ff",
   "metadata": {
    "papermill": {
     "duration": 0.022396,
     "end_time": "2021-08-12T13:27:34.734076",
     "exception": false,
     "start_time": "2021-08-12T13:27:34.711680",
     "status": "completed"
    },
    "tags": []
   },
   "source": [
    "## Step 4: Make Predictions\n",
    "Make predictions with the model's `predict` command using `X` as the data. Save the results to a variable called `predictions`."
   ]
  },
  {
   "cell_type": "code",
   "execution_count": 11,
   "id": "23884df6",
   "metadata": {
    "execution": {
     "iopub.execute_input": "2021-08-12T13:27:34.780989Z",
     "iopub.status.busy": "2021-08-12T13:27:34.780265Z",
     "iopub.status.idle": "2021-08-12T13:27:34.799843Z",
     "shell.execute_reply": "2021-08-12T13:27:34.800390Z",
     "shell.execute_reply.started": "2021-08-12T13:19:32.325082Z"
    },
    "papermill": {
     "duration": 0.043917,
     "end_time": "2021-08-12T13:27:34.800572",
     "exception": false,
     "start_time": "2021-08-12T13:27:34.756655",
     "status": "completed"
    },
    "tags": []
   },
   "outputs": [
    {
     "name": "stdout",
     "output_type": "stream",
     "text": [
      "[208500. 181500. 223500. ... 266500. 142125. 147500.]\n"
     ]
    },
    {
     "data": {
      "application/javascript": [
       "parent.postMessage({\"jupyterEvent\": \"custom.exercise_interaction\", \"data\": {\"outcomeType\": 1, \"valueTowardsCompletion\": 0.25, \"interactionType\": 1, \"questionType\": 2, \"questionId\": \"4_MakePredictions\", \"learnToolsVersion\": \"0.3.4\", \"failureMessage\": \"\", \"exceptionClass\": \"\", \"trace\": \"\"}}, \"*\")"
      ],
      "text/plain": [
       "<IPython.core.display.Javascript object>"
      ]
     },
     "metadata": {},
     "output_type": "display_data"
    },
    {
     "data": {
      "text/markdown": [
       "<span style=\"color:#33cc33\">Correct</span>"
      ],
      "text/plain": [
       "Correct"
      ]
     },
     "metadata": {},
     "output_type": "display_data"
    }
   ],
   "source": [
    "predictions = iowa_model.predict(X)\n",
    "print(predictions)\n",
    "\n",
    "# Check your answer\n",
    "step_4.check()"
   ]
  },
  {
   "cell_type": "code",
   "execution_count": 12,
   "id": "eadebbbc",
   "metadata": {
    "execution": {
     "iopub.execute_input": "2021-08-12T13:27:34.848730Z",
     "iopub.status.busy": "2021-08-12T13:27:34.848114Z",
     "iopub.status.idle": "2021-08-12T13:27:34.851231Z",
     "shell.execute_reply": "2021-08-12T13:27:34.851747Z",
     "shell.execute_reply.started": "2021-08-12T13:19:37.995938Z"
    },
    "papermill": {
     "duration": 0.029172,
     "end_time": "2021-08-12T13:27:34.851930",
     "exception": false,
     "start_time": "2021-08-12T13:27:34.822758",
     "status": "completed"
    },
    "tags": []
   },
   "outputs": [],
   "source": [
    "# step_4.hint()\n",
    "#step_4.solution()"
   ]
  },
  {
   "cell_type": "markdown",
   "id": "29225859",
   "metadata": {
    "papermill": {
     "duration": 0.023828,
     "end_time": "2021-08-12T13:27:34.898122",
     "exception": false,
     "start_time": "2021-08-12T13:27:34.874294",
     "status": "completed"
    },
    "tags": []
   },
   "source": [
    "## Think About Your Results\n",
    "\n",
    "Use the `head` method to compare the top few predictions to the actual home values (in `y`) for those same homes. Anything surprising?\n"
   ]
  },
  {
   "cell_type": "code",
   "execution_count": 13,
   "id": "01b39a1d",
   "metadata": {
    "execution": {
     "iopub.execute_input": "2021-08-12T13:27:34.949986Z",
     "iopub.status.busy": "2021-08-12T13:27:34.949245Z",
     "iopub.status.idle": "2021-08-12T13:27:34.958889Z",
     "shell.execute_reply": "2021-08-12T13:27:34.959612Z",
     "shell.execute_reply.started": "2021-08-12T13:25:22.016150Z"
    },
    "papermill": {
     "duration": 0.03746,
     "end_time": "2021-08-12T13:27:34.959851",
     "exception": false,
     "start_time": "2021-08-12T13:27:34.922391",
     "status": "completed"
    },
    "tags": []
   },
   "outputs": [
    {
     "name": "stdout",
     "output_type": "stream",
     "text": [
      "0    208500\n",
      "1    181500\n",
      "2    223500\n",
      "3    140000\n",
      "4    250000\n",
      "Name: SalePrice, dtype: int64\n",
      "[208500. 181500. 223500. 140000. 250000.]\n"
     ]
    }
   ],
   "source": [
    "# You can write code in this cell\n",
    "print(y.head())\n",
    "print(iowa_model.predict(X.head()))"
   ]
  },
  {
   "cell_type": "markdown",
   "id": "3e8434c5",
   "metadata": {
    "papermill": {
     "duration": 0.023632,
     "end_time": "2021-08-12T13:27:35.007537",
     "exception": false,
     "start_time": "2021-08-12T13:27:34.983905",
     "status": "completed"
    },
    "tags": []
   },
   "source": [
    "It's natural to ask how accurate the model's predictions will be and how you can improve that. That will be you're next step.\n",
    "\n",
    "# Keep Going\n",
    "\n",
    "You are ready for **[Model Validation](https://www.kaggle.com/dansbecker/model-validation).**\n"
   ]
  },
  {
   "cell_type": "markdown",
   "id": "3fd88e12",
   "metadata": {
    "papermill": {
     "duration": 0.022898,
     "end_time": "2021-08-12T13:27:35.052654",
     "exception": false,
     "start_time": "2021-08-12T13:27:35.029756",
     "status": "completed"
    },
    "tags": []
   },
   "source": [
    "---\n",
    "\n",
    "\n",
    "\n",
    "\n",
    "*Have questions or comments? Visit the [Learn Discussion forum](https://www.kaggle.com/learn-forum/161285) to chat with other Learners.*"
   ]
  }
 ],
 "metadata": {
  "kernelspec": {
   "display_name": "Python 3",
   "language": "python",
   "name": "python3"
  },
  "language_info": {
   "codemirror_mode": {
    "name": "ipython",
    "version": 3
   },
   "file_extension": ".py",
   "mimetype": "text/x-python",
   "name": "python",
   "nbconvert_exporter": "python",
   "pygments_lexer": "ipython3",
   "version": "3.7.10"
  },
  "papermill": {
   "default_parameters": {},
   "duration": 12.854489,
   "end_time": "2021-08-12T13:27:35.886100",
   "environment_variables": {},
   "exception": null,
   "input_path": "__notebook__.ipynb",
   "output_path": "__notebook__.ipynb",
   "parameters": {},
   "start_time": "2021-08-12T13:27:23.031611",
   "version": "2.3.3"
  }
 },
 "nbformat": 4,
 "nbformat_minor": 5
}
