{
 "cells": [
  {
   "cell_type": "markdown",
   "id": "2ea53bae",
   "metadata": {
    "papermill": {
     "duration": 0.023859,
     "end_time": "2021-08-17T08:09:02.081397",
     "exception": false,
     "start_time": "2021-08-17T08:09:02.057538",
     "status": "completed"
    },
    "tags": []
   },
   "source": [
    "**This notebook is an exercise in the [Intermediate Machine Learning](https://www.kaggle.com/learn/intermediate-machine-learning) course.  You can reference the tutorial at [this link](https://www.kaggle.com/alexisbcook/categorical-variables).**\n",
    "\n",
    "---\n"
   ]
  },
  {
   "cell_type": "markdown",
   "id": "366cf51d",
   "metadata": {
    "papermill": {
     "duration": 0.022177,
     "end_time": "2021-08-17T08:09:02.126468",
     "exception": false,
     "start_time": "2021-08-17T08:09:02.104291",
     "status": "completed"
    },
    "tags": []
   },
   "source": [
    "By encoding **categorical variables**, you'll obtain your best results thus far!\n",
    "\n",
    "# Setup\n",
    "\n",
    "The questions below will give you feedback on your work. Run the following cell to set up the feedback system."
   ]
  },
  {
   "cell_type": "code",
   "execution_count": 1,
   "id": "83e20996",
   "metadata": {
    "execution": {
     "iopub.execute_input": "2021-08-17T08:09:02.181672Z",
     "iopub.status.busy": "2021-08-17T08:09:02.181034Z",
     "iopub.status.idle": "2021-08-17T08:09:02.308571Z",
     "shell.execute_reply": "2021-08-17T08:09:02.307996Z",
     "shell.execute_reply.started": "2021-08-17T07:52:40.015941Z"
    },
    "papermill": {
     "duration": 0.158932,
     "end_time": "2021-08-17T08:09:02.308742",
     "exception": false,
     "start_time": "2021-08-17T08:09:02.149810",
     "status": "completed"
    },
    "tags": []
   },
   "outputs": [
    {
     "name": "stdout",
     "output_type": "stream",
     "text": [
      "Setup Complete\n"
     ]
    }
   ],
   "source": [
    "# Set up code checking\n",
    "import os\n",
    "if not os.path.exists(\"../input/train.csv\"):\n",
    "    os.symlink(\"../input/home-data-for-ml-course/train.csv\", \"../input/train.csv\")  \n",
    "    os.symlink(\"../input/home-data-for-ml-course/test.csv\", \"../input/test.csv\") \n",
    "from learntools.core import binder\n",
    "binder.bind(globals())\n",
    "from learntools.ml_intermediate.ex3 import *\n",
    "print(\"Setup Complete\")"
   ]
  },
  {
   "cell_type": "markdown",
   "id": "8b114c2e",
   "metadata": {
    "papermill": {
     "duration": 0.022555,
     "end_time": "2021-08-17T08:09:02.355826",
     "exception": false,
     "start_time": "2021-08-17T08:09:02.333271",
     "status": "completed"
    },
    "tags": []
   },
   "source": [
    "In this exercise, you will work with data from the [Housing Prices Competition for Kaggle Learn Users](https://www.kaggle.com/c/home-data-for-ml-course). \n",
    "\n",
    "![Ames Housing dataset image](https://i.imgur.com/lTJVG4e.png)\n",
    "\n",
    "Run the next code cell without changes to load the training and validation sets in `X_train`, `X_valid`, `y_train`, and `y_valid`.  The test set is loaded in `X_test`."
   ]
  },
  {
   "cell_type": "code",
   "execution_count": 2,
   "id": "8f92a1b0",
   "metadata": {
    "execution": {
     "iopub.execute_input": "2021-08-17T08:09:02.405016Z",
     "iopub.status.busy": "2021-08-17T08:09:02.404078Z",
     "iopub.status.idle": "2021-08-17T08:09:03.465213Z",
     "shell.execute_reply": "2021-08-17T08:09:03.465729Z",
     "shell.execute_reply.started": "2021-08-17T07:52:41.367541Z"
    },
    "papermill": {
     "duration": 1.087427,
     "end_time": "2021-08-17T08:09:03.465898",
     "exception": false,
     "start_time": "2021-08-17T08:09:02.378471",
     "status": "completed"
    },
    "tags": []
   },
   "outputs": [],
   "source": [
    "import pandas as pd\n",
    "from sklearn.model_selection import train_test_split\n",
    "\n",
    "# Read the data\n",
    "X = pd.read_csv('../input/train.csv', index_col='Id') \n",
    "X_test = pd.read_csv('../input/test.csv', index_col='Id')\n",
    "\n",
    "# Remove rows with missing target, separate target from predictors\n",
    "X.dropna(axis=0, subset=['SalePrice'], inplace=True)\n",
    "y = X.SalePrice\n",
    "X.drop(['SalePrice'], axis=1, inplace=True)\n",
    "\n",
    "# To keep things simple, we'll drop columns with missing values\n",
    "cols_with_missing = [col for col in X.columns if X[col].isnull().any()] \n",
    "X.drop(cols_with_missing, axis=1, inplace=True)\n",
    "X_test.drop(cols_with_missing, axis=1, inplace=True)\n",
    "\n",
    "# Break off validation set from training data\n",
    "X_train, X_valid, y_train, y_valid = train_test_split(X, y,\n",
    "                                                      train_size=0.8, test_size=0.2,\n",
    "                                                      random_state=0)"
   ]
  },
  {
   "cell_type": "markdown",
   "id": "ad5fb578",
   "metadata": {
    "papermill": {
     "duration": 0.024136,
     "end_time": "2021-08-17T08:09:03.515201",
     "exception": false,
     "start_time": "2021-08-17T08:09:03.491065",
     "status": "completed"
    },
    "tags": []
   },
   "source": [
    "Use the next code cell to print the first five rows of the data."
   ]
  },
  {
   "cell_type": "code",
   "execution_count": 3,
   "id": "8980e003",
   "metadata": {
    "execution": {
     "iopub.execute_input": "2021-08-17T08:09:03.572083Z",
     "iopub.status.busy": "2021-08-17T08:09:03.571447Z",
     "iopub.status.idle": "2021-08-17T08:09:03.597239Z",
     "shell.execute_reply": "2021-08-17T08:09:03.596768Z",
     "shell.execute_reply.started": "2021-08-17T07:52:42.402714Z"
    },
    "papermill": {
     "duration": 0.057794,
     "end_time": "2021-08-17T08:09:03.597378",
     "exception": false,
     "start_time": "2021-08-17T08:09:03.539584",
     "status": "completed"
    },
    "tags": []
   },
   "outputs": [
    {
     "data": {
      "text/html": [
       "<div>\n",
       "<style scoped>\n",
       "    .dataframe tbody tr th:only-of-type {\n",
       "        vertical-align: middle;\n",
       "    }\n",
       "\n",
       "    .dataframe tbody tr th {\n",
       "        vertical-align: top;\n",
       "    }\n",
       "\n",
       "    .dataframe thead th {\n",
       "        text-align: right;\n",
       "    }\n",
       "</style>\n",
       "<table border=\"1\" class=\"dataframe\">\n",
       "  <thead>\n",
       "    <tr style=\"text-align: right;\">\n",
       "      <th></th>\n",
       "      <th>MSSubClass</th>\n",
       "      <th>MSZoning</th>\n",
       "      <th>LotArea</th>\n",
       "      <th>Street</th>\n",
       "      <th>LotShape</th>\n",
       "      <th>LandContour</th>\n",
       "      <th>Utilities</th>\n",
       "      <th>LotConfig</th>\n",
       "      <th>LandSlope</th>\n",
       "      <th>Neighborhood</th>\n",
       "      <th>...</th>\n",
       "      <th>OpenPorchSF</th>\n",
       "      <th>EnclosedPorch</th>\n",
       "      <th>3SsnPorch</th>\n",
       "      <th>ScreenPorch</th>\n",
       "      <th>PoolArea</th>\n",
       "      <th>MiscVal</th>\n",
       "      <th>MoSold</th>\n",
       "      <th>YrSold</th>\n",
       "      <th>SaleType</th>\n",
       "      <th>SaleCondition</th>\n",
       "    </tr>\n",
       "    <tr>\n",
       "      <th>Id</th>\n",
       "      <th></th>\n",
       "      <th></th>\n",
       "      <th></th>\n",
       "      <th></th>\n",
       "      <th></th>\n",
       "      <th></th>\n",
       "      <th></th>\n",
       "      <th></th>\n",
       "      <th></th>\n",
       "      <th></th>\n",
       "      <th></th>\n",
       "      <th></th>\n",
       "      <th></th>\n",
       "      <th></th>\n",
       "      <th></th>\n",
       "      <th></th>\n",
       "      <th></th>\n",
       "      <th></th>\n",
       "      <th></th>\n",
       "      <th></th>\n",
       "      <th></th>\n",
       "    </tr>\n",
       "  </thead>\n",
       "  <tbody>\n",
       "    <tr>\n",
       "      <th>619</th>\n",
       "      <td>20</td>\n",
       "      <td>RL</td>\n",
       "      <td>11694</td>\n",
       "      <td>Pave</td>\n",
       "      <td>Reg</td>\n",
       "      <td>Lvl</td>\n",
       "      <td>AllPub</td>\n",
       "      <td>Inside</td>\n",
       "      <td>Gtl</td>\n",
       "      <td>NridgHt</td>\n",
       "      <td>...</td>\n",
       "      <td>108</td>\n",
       "      <td>0</td>\n",
       "      <td>0</td>\n",
       "      <td>260</td>\n",
       "      <td>0</td>\n",
       "      <td>0</td>\n",
       "      <td>7</td>\n",
       "      <td>2007</td>\n",
       "      <td>New</td>\n",
       "      <td>Partial</td>\n",
       "    </tr>\n",
       "    <tr>\n",
       "      <th>871</th>\n",
       "      <td>20</td>\n",
       "      <td>RL</td>\n",
       "      <td>6600</td>\n",
       "      <td>Pave</td>\n",
       "      <td>Reg</td>\n",
       "      <td>Lvl</td>\n",
       "      <td>AllPub</td>\n",
       "      <td>Inside</td>\n",
       "      <td>Gtl</td>\n",
       "      <td>NAmes</td>\n",
       "      <td>...</td>\n",
       "      <td>0</td>\n",
       "      <td>0</td>\n",
       "      <td>0</td>\n",
       "      <td>0</td>\n",
       "      <td>0</td>\n",
       "      <td>0</td>\n",
       "      <td>8</td>\n",
       "      <td>2009</td>\n",
       "      <td>WD</td>\n",
       "      <td>Normal</td>\n",
       "    </tr>\n",
       "    <tr>\n",
       "      <th>93</th>\n",
       "      <td>30</td>\n",
       "      <td>RL</td>\n",
       "      <td>13360</td>\n",
       "      <td>Pave</td>\n",
       "      <td>IR1</td>\n",
       "      <td>HLS</td>\n",
       "      <td>AllPub</td>\n",
       "      <td>Inside</td>\n",
       "      <td>Gtl</td>\n",
       "      <td>Crawfor</td>\n",
       "      <td>...</td>\n",
       "      <td>0</td>\n",
       "      <td>44</td>\n",
       "      <td>0</td>\n",
       "      <td>0</td>\n",
       "      <td>0</td>\n",
       "      <td>0</td>\n",
       "      <td>8</td>\n",
       "      <td>2009</td>\n",
       "      <td>WD</td>\n",
       "      <td>Normal</td>\n",
       "    </tr>\n",
       "    <tr>\n",
       "      <th>818</th>\n",
       "      <td>20</td>\n",
       "      <td>RL</td>\n",
       "      <td>13265</td>\n",
       "      <td>Pave</td>\n",
       "      <td>IR1</td>\n",
       "      <td>Lvl</td>\n",
       "      <td>AllPub</td>\n",
       "      <td>CulDSac</td>\n",
       "      <td>Gtl</td>\n",
       "      <td>Mitchel</td>\n",
       "      <td>...</td>\n",
       "      <td>59</td>\n",
       "      <td>0</td>\n",
       "      <td>0</td>\n",
       "      <td>0</td>\n",
       "      <td>0</td>\n",
       "      <td>0</td>\n",
       "      <td>7</td>\n",
       "      <td>2008</td>\n",
       "      <td>WD</td>\n",
       "      <td>Normal</td>\n",
       "    </tr>\n",
       "    <tr>\n",
       "      <th>303</th>\n",
       "      <td>20</td>\n",
       "      <td>RL</td>\n",
       "      <td>13704</td>\n",
       "      <td>Pave</td>\n",
       "      <td>IR1</td>\n",
       "      <td>Lvl</td>\n",
       "      <td>AllPub</td>\n",
       "      <td>Corner</td>\n",
       "      <td>Gtl</td>\n",
       "      <td>CollgCr</td>\n",
       "      <td>...</td>\n",
       "      <td>81</td>\n",
       "      <td>0</td>\n",
       "      <td>0</td>\n",
       "      <td>0</td>\n",
       "      <td>0</td>\n",
       "      <td>0</td>\n",
       "      <td>1</td>\n",
       "      <td>2006</td>\n",
       "      <td>WD</td>\n",
       "      <td>Normal</td>\n",
       "    </tr>\n",
       "  </tbody>\n",
       "</table>\n",
       "<p>5 rows × 60 columns</p>\n",
       "</div>"
      ],
      "text/plain": [
       "     MSSubClass MSZoning  LotArea Street LotShape LandContour Utilities  \\\n",
       "Id                                                                        \n",
       "619          20       RL    11694   Pave      Reg         Lvl    AllPub   \n",
       "871          20       RL     6600   Pave      Reg         Lvl    AllPub   \n",
       "93           30       RL    13360   Pave      IR1         HLS    AllPub   \n",
       "818          20       RL    13265   Pave      IR1         Lvl    AllPub   \n",
       "303          20       RL    13704   Pave      IR1         Lvl    AllPub   \n",
       "\n",
       "    LotConfig LandSlope Neighborhood  ... OpenPorchSF EnclosedPorch 3SsnPorch  \\\n",
       "Id                                    ...                                       \n",
       "619    Inside       Gtl      NridgHt  ...         108             0         0   \n",
       "871    Inside       Gtl        NAmes  ...           0             0         0   \n",
       "93     Inside       Gtl      Crawfor  ...           0            44         0   \n",
       "818   CulDSac       Gtl      Mitchel  ...          59             0         0   \n",
       "303    Corner       Gtl      CollgCr  ...          81             0         0   \n",
       "\n",
       "    ScreenPorch  PoolArea  MiscVal  MoSold  YrSold SaleType SaleCondition  \n",
       "Id                                                                         \n",
       "619         260         0        0       7    2007      New       Partial  \n",
       "871           0         0        0       8    2009       WD        Normal  \n",
       "93            0         0        0       8    2009       WD        Normal  \n",
       "818           0         0        0       7    2008       WD        Normal  \n",
       "303           0         0        0       1    2006       WD        Normal  \n",
       "\n",
       "[5 rows x 60 columns]"
      ]
     },
     "execution_count": 3,
     "metadata": {},
     "output_type": "execute_result"
    }
   ],
   "source": [
    "X_train.head()"
   ]
  },
  {
   "cell_type": "markdown",
   "id": "ec44af14",
   "metadata": {
    "papermill": {
     "duration": 0.023279,
     "end_time": "2021-08-17T08:09:03.644263",
     "exception": false,
     "start_time": "2021-08-17T08:09:03.620984",
     "status": "completed"
    },
    "tags": []
   },
   "source": [
    "Notice that the dataset contains both numerical and categorical variables.  You'll need to encode the categorical data before training a model.\n",
    "\n",
    "To compare different models, you'll use the same `score_dataset()` function from the tutorial.  This function reports the [mean absolute error](https://en.wikipedia.org/wiki/Mean_absolute_error) (MAE) from a random forest model."
   ]
  },
  {
   "cell_type": "code",
   "execution_count": 4,
   "id": "92024e1a",
   "metadata": {
    "execution": {
     "iopub.execute_input": "2021-08-17T08:09:03.697262Z",
     "iopub.status.busy": "2021-08-17T08:09:03.696537Z",
     "iopub.status.idle": "2021-08-17T08:09:03.887910Z",
     "shell.execute_reply": "2021-08-17T08:09:03.887356Z",
     "shell.execute_reply.started": "2021-08-17T07:52:43.712772Z"
    },
    "papermill": {
     "duration": 0.220141,
     "end_time": "2021-08-17T08:09:03.888064",
     "exception": false,
     "start_time": "2021-08-17T08:09:03.667923",
     "status": "completed"
    },
    "tags": []
   },
   "outputs": [],
   "source": [
    "from sklearn.ensemble import RandomForestRegressor\n",
    "from sklearn.metrics import mean_absolute_error\n",
    "\n",
    "# function for comparing different approaches\n",
    "def score_dataset(X_train, X_valid, y_train, y_valid):\n",
    "    model = RandomForestRegressor(n_estimators=100, random_state=0)\n",
    "    model.fit(X_train, y_train)\n",
    "    preds = model.predict(X_valid)\n",
    "    return mean_absolute_error(y_valid, preds)"
   ]
  },
  {
   "cell_type": "markdown",
   "id": "0b10ddd5",
   "metadata": {
    "papermill": {
     "duration": 0.023278,
     "end_time": "2021-08-17T08:09:03.936428",
     "exception": false,
     "start_time": "2021-08-17T08:09:03.913150",
     "status": "completed"
    },
    "tags": []
   },
   "source": [
    "# Step 1: Drop columns with categorical data\n",
    "\n",
    "You'll get started with the most straightforward approach.  Use the code cell below to preprocess the data in `X_train` and `X_valid` to remove columns with categorical data.  Set the preprocessed DataFrames to `drop_X_train` and `drop_X_valid`, respectively.  "
   ]
  },
  {
   "cell_type": "code",
   "execution_count": 5,
   "id": "084ea876",
   "metadata": {
    "execution": {
     "iopub.execute_input": "2021-08-17T08:09:03.997759Z",
     "iopub.status.busy": "2021-08-17T08:09:03.996759Z",
     "iopub.status.idle": "2021-08-17T08:09:04.003261Z",
     "shell.execute_reply": "2021-08-17T08:09:04.003703Z",
     "shell.execute_reply.started": "2021-08-17T07:52:46.715689Z"
    },
    "papermill": {
     "duration": 0.043074,
     "end_time": "2021-08-17T08:09:04.003905",
     "exception": false,
     "start_time": "2021-08-17T08:09:03.960831",
     "status": "completed"
    },
    "tags": []
   },
   "outputs": [
    {
     "data": {
      "application/javascript": [
       "parent.postMessage({\"jupyterEvent\": \"custom.exercise_interaction\", \"data\": {\"outcomeType\": 1, \"valueTowardsCompletion\": 0.5, \"interactionType\": 1, \"questionType\": 2, \"questionId\": \"1_Drop\", \"learnToolsVersion\": \"0.3.4\", \"failureMessage\": \"\", \"exceptionClass\": \"\", \"trace\": \"\"}}, \"*\")"
      ],
      "text/plain": [
       "<IPython.core.display.Javascript object>"
      ]
     },
     "metadata": {},
     "output_type": "display_data"
    },
    {
     "data": {
      "text/markdown": [
       "<span style=\"color:#33cc33\">Correct</span>"
      ],
      "text/plain": [
       "Correct"
      ]
     },
     "metadata": {},
     "output_type": "display_data"
    }
   ],
   "source": [
    "# Fill in the lines below: drop columns in training and validation data\n",
    "drop_X_train = X_train.select_dtypes(exclude=['object'])\n",
    "drop_X_valid = X_valid.select_dtypes(exclude=['object'])\n",
    "\n",
    "# Check your answers\n",
    "step_1.check()"
   ]
  },
  {
   "cell_type": "code",
   "execution_count": 6,
   "id": "1b46747e",
   "metadata": {
    "execution": {
     "iopub.execute_input": "2021-08-17T08:09:04.057576Z",
     "iopub.status.busy": "2021-08-17T08:09:04.056543Z",
     "iopub.status.idle": "2021-08-17T08:09:04.065178Z",
     "shell.execute_reply": "2021-08-17T08:09:04.065612Z",
     "shell.execute_reply.started": "2021-08-17T07:52:50.433928Z"
    },
    "papermill": {
     "duration": 0.037729,
     "end_time": "2021-08-17T08:09:04.065822",
     "exception": false,
     "start_time": "2021-08-17T08:09:04.028093",
     "status": "completed"
    },
    "tags": []
   },
   "outputs": [
    {
     "data": {
      "application/javascript": [
       "parent.postMessage({\"jupyterEvent\": \"custom.exercise_interaction\", \"data\": {\"interactionType\": 3, \"questionType\": 2, \"questionId\": \"1_Drop\", \"learnToolsVersion\": \"0.3.4\", \"valueTowardsCompletion\": 0.0, \"failureMessage\": \"\", \"exceptionClass\": \"\", \"trace\": \"\", \"outcomeType\": 4}}, \"*\")"
      ],
      "text/plain": [
       "<IPython.core.display.Javascript object>"
      ]
     },
     "metadata": {},
     "output_type": "display_data"
    },
    {
     "data": {
      "text/markdown": [
       "<span style=\"color:#33cc99\">Solution:</span> \n",
       "```python\n",
       "# Drop columns in training and validation data\n",
       "drop_X_train = X_train.select_dtypes(exclude=['object'])\n",
       "drop_X_valid = X_valid.select_dtypes(exclude=['object'])\n",
       "\n",
       "```"
      ],
      "text/plain": [
       "Solution: \n",
       "```python\n",
       "# Drop columns in training and validation data\n",
       "drop_X_train = X_train.select_dtypes(exclude=['object'])\n",
       "drop_X_valid = X_valid.select_dtypes(exclude=['object'])\n",
       "\n",
       "```"
      ]
     },
     "metadata": {},
     "output_type": "display_data"
    }
   ],
   "source": [
    "# Lines below will give you a hint or solution code\n",
    "#step_1.hint()\n",
    "step_1.solution()"
   ]
  },
  {
   "cell_type": "markdown",
   "id": "1010f21a",
   "metadata": {
    "papermill": {
     "duration": 0.025486,
     "end_time": "2021-08-17T08:09:04.116928",
     "exception": false,
     "start_time": "2021-08-17T08:09:04.091442",
     "status": "completed"
    },
    "tags": []
   },
   "source": [
    "Run the next code cell to get the MAE for this approach."
   ]
  },
  {
   "cell_type": "code",
   "execution_count": 7,
   "id": "1343b11b",
   "metadata": {
    "execution": {
     "iopub.execute_input": "2021-08-17T08:09:04.176830Z",
     "iopub.status.busy": "2021-08-17T08:09:04.176130Z",
     "iopub.status.idle": "2021-08-17T08:09:05.380462Z",
     "shell.execute_reply": "2021-08-17T08:09:05.380899Z",
     "shell.execute_reply.started": "2021-08-17T07:52:56.269983Z"
    },
    "papermill": {
     "duration": 1.238539,
     "end_time": "2021-08-17T08:09:05.381075",
     "exception": false,
     "start_time": "2021-08-17T08:09:04.142536",
     "status": "completed"
    },
    "tags": []
   },
   "outputs": [
    {
     "name": "stdout",
     "output_type": "stream",
     "text": [
      "MAE from Approach 1 (Drop categorical variables):\n",
      "17837.82570776256\n"
     ]
    }
   ],
   "source": [
    "print(\"MAE from Approach 1 (Drop categorical variables):\")\n",
    "print(score_dataset(drop_X_train, drop_X_valid, y_train, y_valid))"
   ]
  },
  {
   "cell_type": "markdown",
   "id": "6eb317ea",
   "metadata": {
    "papermill": {
     "duration": 0.025306,
     "end_time": "2021-08-17T08:09:05.432059",
     "exception": false,
     "start_time": "2021-08-17T08:09:05.406753",
     "status": "completed"
    },
    "tags": []
   },
   "source": [
    "Before jumping into ordinal encoding, we'll investigate the dataset.  Specifically, we'll look at the `'Condition2'` column.  The code cell below prints the unique entries in both the training and validation sets."
   ]
  },
  {
   "cell_type": "code",
   "execution_count": 8,
   "id": "e4889f1e",
   "metadata": {
    "execution": {
     "iopub.execute_input": "2021-08-17T08:09:05.489956Z",
     "iopub.status.busy": "2021-08-17T08:09:05.488990Z",
     "iopub.status.idle": "2021-08-17T08:09:05.493397Z",
     "shell.execute_reply": "2021-08-17T08:09:05.493797Z",
     "shell.execute_reply.started": "2021-08-17T08:01:36.395123Z"
    },
    "papermill": {
     "duration": 0.035912,
     "end_time": "2021-08-17T08:09:05.493965",
     "exception": false,
     "start_time": "2021-08-17T08:09:05.458053",
     "status": "completed"
    },
    "tags": []
   },
   "outputs": [
    {
     "data": {
      "text/plain": [
       "array(['Norm', 'PosA', 'Feedr', 'PosN', 'Artery', 'RRAe'], dtype=object)"
      ]
     },
     "execution_count": 8,
     "metadata": {},
     "output_type": "execute_result"
    }
   ],
   "source": [
    "X_train[\"Condition2\"].unique()"
   ]
  },
  {
   "cell_type": "code",
   "execution_count": 9,
   "id": "748d8fbe",
   "metadata": {
    "execution": {
     "iopub.execute_input": "2021-08-17T08:09:05.554570Z",
     "iopub.status.busy": "2021-08-17T08:09:05.553250Z",
     "iopub.status.idle": "2021-08-17T08:09:05.563426Z",
     "shell.execute_reply": "2021-08-17T08:09:05.562486Z",
     "shell.execute_reply.started": "2021-08-17T08:00:17.349747Z"
    },
    "papermill": {
     "duration": 0.043576,
     "end_time": "2021-08-17T08:09:05.563639",
     "exception": false,
     "start_time": "2021-08-17T08:09:05.520063",
     "status": "completed"
    },
    "tags": []
   },
   "outputs": [
    {
     "name": "stdout",
     "output_type": "stream",
     "text": [
      "Unique values in 'Condition2' column in training data: ['Norm' 'PosA' 'Feedr' 'PosN' 'Artery' 'RRAe']\n",
      "\n",
      "Unique values in 'Condition2' column in validation data: ['Norm' 'RRAn' 'RRNn' 'Artery' 'Feedr' 'PosN']\n"
     ]
    }
   ],
   "source": [
    "print(\"Unique values in 'Condition2' column in training data:\", X_train['Condition2'].unique())\n",
    "print(\"\\nUnique values in 'Condition2' column in validation data:\", X_valid['Condition2'].unique())"
   ]
  },
  {
   "cell_type": "markdown",
   "id": "e3adcd67",
   "metadata": {
    "papermill": {
     "duration": 0.025773,
     "end_time": "2021-08-17T08:09:05.619235",
     "exception": false,
     "start_time": "2021-08-17T08:09:05.593462",
     "status": "completed"
    },
    "tags": []
   },
   "source": [
    "# Step 2: Ordinal encoding\n",
    "\n",
    "### Part A\n",
    "\n",
    "If you now write code to: \n",
    "- fit an ordinal encoder to the training data, and then \n",
    "- use it to transform both the training and validation data, \n",
    "\n",
    "you'll get an error.  Can you see why this is the case?  (_You'll need  to use the above output to answer this question._)"
   ]
  },
  {
   "cell_type": "code",
   "execution_count": 10,
   "id": "5d67a78d",
   "metadata": {
    "execution": {
     "iopub.execute_input": "2021-08-17T08:09:05.677949Z",
     "iopub.status.busy": "2021-08-17T08:09:05.677337Z",
     "iopub.status.idle": "2021-08-17T08:09:05.683420Z",
     "shell.execute_reply": "2021-08-17T08:09:05.682980Z",
     "shell.execute_reply.started": "2021-08-17T08:00:18.441241Z"
    },
    "papermill": {
     "duration": 0.037236,
     "end_time": "2021-08-17T08:09:05.683555",
     "exception": false,
     "start_time": "2021-08-17T08:09:05.646319",
     "status": "completed"
    },
    "tags": []
   },
   "outputs": [
    {
     "data": {
      "application/javascript": [
       "parent.postMessage({\"jupyterEvent\": \"custom.exercise_interaction\", \"data\": {\"outcomeType\": 1, \"valueTowardsCompletion\": 0.5, \"interactionType\": 1, \"questionType\": 4, \"questionId\": \"2.1_LabelA\", \"learnToolsVersion\": \"0.3.4\", \"failureMessage\": \"\", \"exceptionClass\": \"\", \"trace\": \"\"}}, \"*\")"
      ],
      "text/plain": [
       "<IPython.core.display.Javascript object>"
      ]
     },
     "metadata": {},
     "output_type": "display_data"
    },
    {
     "data": {
      "text/markdown": [
       "<span style=\"color:#33cc33\">Correct:</span> \n",
       "\n",
       "Fitting an ordinal encoder to a column in the training data creates a corresponding integer-valued label for each unique value **that appears in the training data**. In the case that the validation data contains values that don't also appear in the training data, the encoder will throw an error, because these values won't have an integer assigned to them.  Notice that the `'Condition2'` column in the validation data contains the values `'RRAn'` and `'RRNn'`, but these don't appear in the training data -- thus, if we try to use an ordinal encoder with scikit-learn, the code will throw an error."
      ],
      "text/plain": [
       "Correct: \n",
       "\n",
       "Fitting an ordinal encoder to a column in the training data creates a corresponding integer-valued label for each unique value **that appears in the training data**. In the case that the validation data contains values that don't also appear in the training data, the encoder will throw an error, because these values won't have an integer assigned to them.  Notice that the `'Condition2'` column in the validation data contains the values `'RRAn'` and `'RRNn'`, but these don't appear in the training data -- thus, if we try to use an ordinal encoder with scikit-learn, the code will throw an error."
      ]
     },
     "metadata": {},
     "output_type": "display_data"
    }
   ],
   "source": [
    "# Check your answer (Run this code cell to receive credit!)\n",
    "step_2.a.check()"
   ]
  },
  {
   "cell_type": "code",
   "execution_count": 11,
   "id": "41684e20",
   "metadata": {
    "execution": {
     "iopub.execute_input": "2021-08-17T08:09:05.742716Z",
     "iopub.status.busy": "2021-08-17T08:09:05.741776Z",
     "iopub.status.idle": "2021-08-17T08:09:05.745133Z",
     "shell.execute_reply": "2021-08-17T08:09:05.744672Z",
     "shell.execute_reply.started": "2021-08-17T08:02:23.459564Z"
    },
    "papermill": {
     "duration": 0.034367,
     "end_time": "2021-08-17T08:09:05.745281",
     "exception": false,
     "start_time": "2021-08-17T08:09:05.710914",
     "status": "completed"
    },
    "tags": []
   },
   "outputs": [],
   "source": [
    "#step_2.a.hint()"
   ]
  },
  {
   "cell_type": "markdown",
   "id": "63a07d9e",
   "metadata": {
    "papermill": {
     "duration": 0.026903,
     "end_time": "2021-08-17T08:09:05.799422",
     "exception": false,
     "start_time": "2021-08-17T08:09:05.772519",
     "status": "completed"
    },
    "tags": []
   },
   "source": [
    "This is a common problem that you'll encounter with real-world data, and there are many approaches to fixing this issue.  For instance, you can write a custom ordinal encoder to deal with new categories.  The simplest approach, however, is to drop the problematic categorical columns.  \n",
    "\n",
    "Run the code cell below to save the problematic columns to a Python list `bad_label_cols`.  Likewise, columns that can be safely ordinal encoded are stored in `good_label_cols`."
   ]
  },
  {
   "cell_type": "code",
   "execution_count": 12,
   "id": "31142a7b",
   "metadata": {
    "execution": {
     "iopub.execute_input": "2021-08-17T08:09:05.867266Z",
     "iopub.status.busy": "2021-08-17T08:09:05.866638Z",
     "iopub.status.idle": "2021-08-17T08:09:05.870040Z",
     "shell.execute_reply": "2021-08-17T08:09:05.870650Z",
     "shell.execute_reply.started": "2021-08-17T08:02:29.692376Z"
    },
    "papermill": {
     "duration": 0.043909,
     "end_time": "2021-08-17T08:09:05.870873",
     "exception": false,
     "start_time": "2021-08-17T08:09:05.826964",
     "status": "completed"
    },
    "tags": []
   },
   "outputs": [
    {
     "name": "stdout",
     "output_type": "stream",
     "text": [
      "Categorical columns that will be ordinal encoded: ['MSZoning', 'Street', 'LotShape', 'LandContour', 'Utilities', 'LotConfig', 'LandSlope', 'Neighborhood', 'Condition1', 'BldgType', 'HouseStyle', 'RoofStyle', 'Exterior1st', 'Exterior2nd', 'ExterQual', 'ExterCond', 'Foundation', 'Heating', 'HeatingQC', 'CentralAir', 'KitchenQual', 'PavedDrive', 'SaleType', 'SaleCondition']\n",
      "\n",
      "Categorical columns that will be dropped from the dataset: ['Functional', 'Condition2', 'RoofMatl']\n"
     ]
    }
   ],
   "source": [
    "# All categorical columns\n",
    "object_cols = [col for col in X_train.columns if X_train[col].dtype == \"object\"]\n",
    "\n",
    "# Columns that can be safely ordinal encoded\n",
    "good_label_cols = [col for col in object_cols if \n",
    "                   set(X_valid[col]).issubset(set(X_train[col]))]\n",
    "        \n",
    "# Problematic columns that will be dropped from the dataset\n",
    "bad_label_cols = list(set(object_cols)-set(good_label_cols))\n",
    "        \n",
    "print('Categorical columns that will be ordinal encoded:', good_label_cols)\n",
    "print('\\nCategorical columns that will be dropped from the dataset:', bad_label_cols)"
   ]
  },
  {
   "cell_type": "markdown",
   "id": "6c084332",
   "metadata": {
    "papermill": {
     "duration": 0.026927,
     "end_time": "2021-08-17T08:09:05.925826",
     "exception": false,
     "start_time": "2021-08-17T08:09:05.898899",
     "status": "completed"
    },
    "tags": []
   },
   "source": [
    "### Part B\n",
    "\n",
    "Use the next code cell to ordinal encode the data in `X_train` and `X_valid`.  Set the preprocessed DataFrames to `label_X_train` and `label_X_valid`, respectively.  \n",
    "- We have provided code below to drop the categorical columns in `bad_label_cols` from the dataset. \n",
    "- You should ordinal encode the categorical columns in `good_label_cols`.  "
   ]
  },
  {
   "cell_type": "code",
   "execution_count": 13,
   "id": "70812618",
   "metadata": {
    "execution": {
     "iopub.execute_input": "2021-08-17T08:09:05.989129Z",
     "iopub.status.busy": "2021-08-17T08:09:05.988482Z",
     "iopub.status.idle": "2021-08-17T08:09:06.035849Z",
     "shell.execute_reply": "2021-08-17T08:09:06.036316Z",
     "shell.execute_reply.started": "2021-08-17T08:06:39.959688Z"
    },
    "papermill": {
     "duration": 0.08376,
     "end_time": "2021-08-17T08:09:06.036485",
     "exception": false,
     "start_time": "2021-08-17T08:09:05.952725",
     "status": "completed"
    },
    "tags": []
   },
   "outputs": [
    {
     "data": {
      "application/javascript": [
       "parent.postMessage({\"jupyterEvent\": \"custom.exercise_interaction\", \"data\": {\"outcomeType\": 1, \"valueTowardsCompletion\": 0.5, \"interactionType\": 1, \"questionType\": 2, \"questionId\": \"2.2_LabelB\", \"learnToolsVersion\": \"0.3.4\", \"failureMessage\": \"\", \"exceptionClass\": \"\", \"trace\": \"\"}}, \"*\")"
      ],
      "text/plain": [
       "<IPython.core.display.Javascript object>"
      ]
     },
     "metadata": {},
     "output_type": "display_data"
    },
    {
     "data": {
      "text/markdown": [
       "<span style=\"color:#33cc33\">Correct</span>"
      ],
      "text/plain": [
       "Correct"
      ]
     },
     "metadata": {},
     "output_type": "display_data"
    }
   ],
   "source": [
    "from sklearn.preprocessing import OrdinalEncoder\n",
    "\n",
    "#Drop categorical columns that will not be encoded\n",
    "label_X_train = X_train.drop(bad_label_cols, axis=1)\n",
    "label_X_valid = X_valid.drop(bad_label_cols, axis=1)\n",
    "\n",
    "# Apply ordinal encoder\n",
    "ordinal_encoder = OrdinalEncoder()\n",
    "label_X_train[good_label_cols] = ordinal_encoder.fit_transform(X_train[good_label_cols])\n",
    "label_X_valid[good_label_cols] = ordinal_encoder.transform(X_valid[good_label_cols])\n",
    "    \n",
    "# Check your answer\n",
    "step_2.b.check()"
   ]
  },
  {
   "cell_type": "code",
   "execution_count": 14,
   "id": "49b4590d",
   "metadata": {
    "execution": {
     "iopub.execute_input": "2021-08-17T08:09:06.097096Z",
     "iopub.status.busy": "2021-08-17T08:09:06.096515Z",
     "iopub.status.idle": "2021-08-17T08:09:06.099635Z",
     "shell.execute_reply": "2021-08-17T08:09:06.100050Z",
     "shell.execute_reply.started": "2021-08-17T08:06:43.794590Z"
    },
    "papermill": {
     "duration": 0.033655,
     "end_time": "2021-08-17T08:09:06.100289",
     "exception": false,
     "start_time": "2021-08-17T08:09:06.066634",
     "status": "completed"
    },
    "tags": []
   },
   "outputs": [],
   "source": [
    "# Lines below will give you a hint or solution code\n",
    "#step_2.b.hint()\n",
    "#step_2.b.solution()"
   ]
  },
  {
   "cell_type": "markdown",
   "id": "33f8e5dc",
   "metadata": {
    "papermill": {
     "duration": 0.027453,
     "end_time": "2021-08-17T08:09:06.155726",
     "exception": false,
     "start_time": "2021-08-17T08:09:06.128273",
     "status": "completed"
    },
    "tags": []
   },
   "source": [
    "Run the next code cell to get the MAE for this approach."
   ]
  },
  {
   "cell_type": "code",
   "execution_count": 15,
   "id": "158561cb",
   "metadata": {
    "execution": {
     "iopub.execute_input": "2021-08-17T08:09:06.214288Z",
     "iopub.status.busy": "2021-08-17T08:09:06.213654Z",
     "iopub.status.idle": "2021-08-17T08:09:07.762075Z",
     "shell.execute_reply": "2021-08-17T08:09:07.762534Z",
     "shell.execute_reply.started": "2021-08-17T08:07:13.790002Z"
    },
    "papermill": {
     "duration": 1.579287,
     "end_time": "2021-08-17T08:09:07.762734",
     "exception": false,
     "start_time": "2021-08-17T08:09:06.183447",
     "status": "completed"
    },
    "tags": []
   },
   "outputs": [
    {
     "name": "stdout",
     "output_type": "stream",
     "text": [
      "MAE from Approach 2 (Ordinal Encoding):\n",
      "17098.01649543379\n"
     ]
    }
   ],
   "source": [
    "print(\"MAE from Approach 2 (Ordinal Encoding):\") \n",
    "print(score_dataset(label_X_train, label_X_valid, y_train, y_valid))"
   ]
  },
  {
   "cell_type": "markdown",
   "id": "f9f82fa5",
   "metadata": {
    "papermill": {
     "duration": 0.028719,
     "end_time": "2021-08-17T08:09:07.820514",
     "exception": false,
     "start_time": "2021-08-17T08:09:07.791795",
     "status": "completed"
    },
    "tags": []
   },
   "source": [
    "So far, you've tried two different approaches to dealing with categorical variables.  And, you've seen that encoding categorical data yields better results than removing columns from the dataset.\n",
    "\n",
    "Soon, you'll try one-hot encoding.  Before then, there's one additional topic we need to cover.  Begin by running the next code cell without changes.  "
   ]
  },
  {
   "cell_type": "code",
   "execution_count": 16,
   "id": "45b3010e",
   "metadata": {
    "execution": {
     "iopub.execute_input": "2021-08-17T08:09:07.885442Z",
     "iopub.status.busy": "2021-08-17T08:09:07.883503Z",
     "iopub.status.idle": "2021-08-17T08:09:07.898698Z",
     "shell.execute_reply": "2021-08-17T08:09:07.899152Z",
     "shell.execute_reply.started": "2021-08-17T08:07:19.205741Z"
    },
    "papermill": {
     "duration": 0.049527,
     "end_time": "2021-08-17T08:09:07.899348",
     "exception": false,
     "start_time": "2021-08-17T08:09:07.849821",
     "status": "completed"
    },
    "tags": []
   },
   "outputs": [
    {
     "data": {
      "text/plain": [
       "[('Street', 2),\n",
       " ('Utilities', 2),\n",
       " ('CentralAir', 2),\n",
       " ('LandSlope', 3),\n",
       " ('PavedDrive', 3),\n",
       " ('LotShape', 4),\n",
       " ('LandContour', 4),\n",
       " ('ExterQual', 4),\n",
       " ('KitchenQual', 4),\n",
       " ('MSZoning', 5),\n",
       " ('LotConfig', 5),\n",
       " ('BldgType', 5),\n",
       " ('ExterCond', 5),\n",
       " ('HeatingQC', 5),\n",
       " ('Condition2', 6),\n",
       " ('RoofStyle', 6),\n",
       " ('Foundation', 6),\n",
       " ('Heating', 6),\n",
       " ('Functional', 6),\n",
       " ('SaleCondition', 6),\n",
       " ('RoofMatl', 7),\n",
       " ('HouseStyle', 8),\n",
       " ('Condition1', 9),\n",
       " ('SaleType', 9),\n",
       " ('Exterior1st', 15),\n",
       " ('Exterior2nd', 16),\n",
       " ('Neighborhood', 25)]"
      ]
     },
     "execution_count": 16,
     "metadata": {},
     "output_type": "execute_result"
    }
   ],
   "source": [
    "# Get number of unique entries in each column with categorical data\n",
    "object_nunique = list(map(lambda col: X_train[col].nunique(), object_cols))\n",
    "d = dict(zip(object_cols, object_nunique))\n",
    "\n",
    "# Print number of unique entries by column, in ascending order\n",
    "sorted(d.items(), key=lambda x: x[1])"
   ]
  },
  {
   "cell_type": "markdown",
   "id": "e5a9f39e",
   "metadata": {
    "papermill": {
     "duration": 0.02821,
     "end_time": "2021-08-17T08:09:07.956439",
     "exception": false,
     "start_time": "2021-08-17T08:09:07.928229",
     "status": "completed"
    },
    "tags": []
   },
   "source": [
    "# Step 3: Investigating cardinality\n",
    "\n",
    "### Part A\n",
    "\n",
    "The output above shows, for each column with categorical data, the number of unique values in the column.  For instance, the `'Street'` column in the training data has two unique values: `'Grvl'` and `'Pave'`, corresponding to a gravel road and a paved road, respectively.\n",
    "\n",
    "We refer to the number of unique entries of a categorical variable as the **cardinality** of that categorical variable.  For instance, the `'Street'` variable has cardinality 2.\n",
    "\n",
    "Use the output above to answer the questions below."
   ]
  },
  {
   "cell_type": "code",
   "execution_count": 17,
   "id": "2eb2ed51",
   "metadata": {
    "execution": {
     "iopub.execute_input": "2021-08-17T08:09:08.019177Z",
     "iopub.status.busy": "2021-08-17T08:09:08.018220Z",
     "iopub.status.idle": "2021-08-17T08:09:08.024712Z",
     "shell.execute_reply": "2021-08-17T08:09:08.025124Z",
     "shell.execute_reply.started": "2021-08-17T08:07:33.828225Z"
    },
    "papermill": {
     "duration": 0.040179,
     "end_time": "2021-08-17T08:09:08.025294",
     "exception": false,
     "start_time": "2021-08-17T08:09:07.985115",
     "status": "completed"
    },
    "tags": []
   },
   "outputs": [
    {
     "data": {
      "application/javascript": [
       "parent.postMessage({\"jupyterEvent\": \"custom.exercise_interaction\", \"data\": {\"outcomeType\": 1, \"valueTowardsCompletion\": 0.5, \"interactionType\": 1, \"questionType\": 1, \"questionId\": \"3.1_CardinalityA\", \"learnToolsVersion\": \"0.3.4\", \"failureMessage\": \"\", \"exceptionClass\": \"\", \"trace\": \"\"}}, \"*\")"
      ],
      "text/plain": [
       "<IPython.core.display.Javascript object>"
      ]
     },
     "metadata": {},
     "output_type": "display_data"
    },
    {
     "data": {
      "text/markdown": [
       "<span style=\"color:#33cc33\">Correct</span>"
      ],
      "text/plain": [
       "Correct"
      ]
     },
     "metadata": {},
     "output_type": "display_data"
    }
   ],
   "source": [
    "# How many categorical variables in the training data\n",
    "# have cardinality greater than 10?\n",
    "high_cardinality_numcols = 3\n",
    "\n",
    "# How many columns are needed to one-hot encode the\n",
    "# 'Neighborhood' variable in the training data?\n",
    "num_cols_neighborhood = 25\n",
    "# Check your answers\n",
    "step_3.a.check()"
   ]
  },
  {
   "cell_type": "code",
   "execution_count": 18,
   "id": "6e673695",
   "metadata": {
    "execution": {
     "iopub.execute_input": "2021-08-17T08:09:08.087637Z",
     "iopub.status.busy": "2021-08-17T08:09:08.086777Z",
     "iopub.status.idle": "2021-08-17T08:09:08.089668Z",
     "shell.execute_reply": "2021-08-17T08:09:08.089133Z",
     "shell.execute_reply.started": "2021-08-17T08:07:36.958894Z"
    },
    "papermill": {
     "duration": 0.035507,
     "end_time": "2021-08-17T08:09:08.089810",
     "exception": false,
     "start_time": "2021-08-17T08:09:08.054303",
     "status": "completed"
    },
    "tags": []
   },
   "outputs": [],
   "source": [
    "# Lines below will give you a hint or solution code\n",
    "#step_3.a.hint()\n",
    "#step_3.a.solution()"
   ]
  },
  {
   "cell_type": "markdown",
   "id": "82ac3be4",
   "metadata": {
    "papermill": {
     "duration": 0.02877,
     "end_time": "2021-08-17T08:09:08.147794",
     "exception": false,
     "start_time": "2021-08-17T08:09:08.119024",
     "status": "completed"
    },
    "tags": []
   },
   "source": [
    "### Part B\n",
    "\n",
    "For large datasets with many rows, one-hot encoding can greatly expand the size of the dataset.  For this reason, we typically will only one-hot encode columns with relatively low cardinality.  Then, high cardinality columns can either be dropped from the dataset, or we can use ordinal encoding.\n",
    "\n",
    "As an example, consider a dataset with 10,000 rows, and containing one categorical column with 100 unique entries.  \n",
    "- If this column is replaced with the corresponding one-hot encoding, how many entries are added to the dataset?  \n",
    "- If we instead replace the column with the ordinal encoding, how many entries are added?  \n",
    "\n",
    "Use your answers to fill in the lines below."
   ]
  },
  {
   "cell_type": "code",
   "execution_count": 19,
   "id": "6d5ace9c",
   "metadata": {
    "execution": {
     "iopub.execute_input": "2021-08-17T08:09:08.211548Z",
     "iopub.status.busy": "2021-08-17T08:09:08.210731Z",
     "iopub.status.idle": "2021-08-17T08:09:08.216333Z",
     "shell.execute_reply": "2021-08-17T08:09:08.215794Z",
     "shell.execute_reply.started": "2021-08-17T08:07:54.453828Z"
    },
    "papermill": {
     "duration": 0.039182,
     "end_time": "2021-08-17T08:09:08.216461",
     "exception": false,
     "start_time": "2021-08-17T08:09:08.177279",
     "status": "completed"
    },
    "tags": []
   },
   "outputs": [
    {
     "data": {
      "application/javascript": [
       "parent.postMessage({\"jupyterEvent\": \"custom.exercise_interaction\", \"data\": {\"outcomeType\": 1, \"valueTowardsCompletion\": 0.5, \"interactionType\": 1, \"questionType\": 1, \"questionId\": \"3.2_CardinalityB\", \"learnToolsVersion\": \"0.3.4\", \"failureMessage\": \"\", \"exceptionClass\": \"\", \"trace\": \"\"}}, \"*\")"
      ],
      "text/plain": [
       "<IPython.core.display.Javascript object>"
      ]
     },
     "metadata": {},
     "output_type": "display_data"
    },
    {
     "data": {
      "text/markdown": [
       "<span style=\"color:#33cc33\">Correct</span>"
      ],
      "text/plain": [
       "Correct"
      ]
     },
     "metadata": {},
     "output_type": "display_data"
    }
   ],
   "source": [
    "# How many entries are added to the dataset by\n",
    "# replacing the column with a one-hot encoding?\n",
    "OH_entries_added = 1e4*100 - 1e4\n",
    "\n",
    "# How many entries are added to the dataset by\n",
    "# replacing the column with an ordinal encoding?\n",
    "label_entries_added = 0\n",
    "\n",
    "# Check your answers\n",
    "step_3.b.check()"
   ]
  },
  {
   "cell_type": "code",
   "execution_count": 20,
   "id": "c5912e72",
   "metadata": {
    "execution": {
     "iopub.execute_input": "2021-08-17T08:09:08.279253Z",
     "iopub.status.busy": "2021-08-17T08:09:08.278379Z",
     "iopub.status.idle": "2021-08-17T08:09:08.281472Z",
     "shell.execute_reply": "2021-08-17T08:09:08.282013Z",
     "shell.execute_reply.started": "2021-08-17T08:07:46.885821Z"
    },
    "papermill": {
     "duration": 0.035997,
     "end_time": "2021-08-17T08:09:08.282183",
     "exception": false,
     "start_time": "2021-08-17T08:09:08.246186",
     "status": "completed"
    },
    "tags": []
   },
   "outputs": [],
   "source": [
    "# Lines below will give you a hint or solution code\n",
    "#step_3.b.hint()\n",
    "#step_3.b.solution()"
   ]
  },
  {
   "cell_type": "markdown",
   "id": "0474116f",
   "metadata": {
    "papermill": {
     "duration": 0.029268,
     "end_time": "2021-08-17T08:09:08.341125",
     "exception": false,
     "start_time": "2021-08-17T08:09:08.311857",
     "status": "completed"
    },
    "tags": []
   },
   "source": [
    "Next, you'll experiment with one-hot encoding.  But, instead of encoding all of the categorical variables in the dataset, you'll only create a one-hot encoding for columns with cardinality less than 10.\n",
    "\n",
    "Run the code cell below without changes to set `low_cardinality_cols` to a Python list containing the columns that will be one-hot encoded.  Likewise, `high_cardinality_cols` contains a list of categorical columns that will be dropped from the dataset."
   ]
  },
  {
   "cell_type": "code",
   "execution_count": 21,
   "id": "73af40cc",
   "metadata": {
    "execution": {
     "iopub.execute_input": "2021-08-17T08:09:08.403744Z",
     "iopub.status.busy": "2021-08-17T08:09:08.402814Z",
     "iopub.status.idle": "2021-08-17T08:09:08.417542Z",
     "shell.execute_reply": "2021-08-17T08:09:08.418024Z",
     "shell.execute_reply.started": "2021-08-17T08:08:00.408988Z"
    },
    "papermill": {
     "duration": 0.047436,
     "end_time": "2021-08-17T08:09:08.418188",
     "exception": false,
     "start_time": "2021-08-17T08:09:08.370752",
     "status": "completed"
    },
    "tags": []
   },
   "outputs": [
    {
     "name": "stdout",
     "output_type": "stream",
     "text": [
      "Categorical columns that will be one-hot encoded: ['MSZoning', 'Street', 'LotShape', 'LandContour', 'Utilities', 'LotConfig', 'LandSlope', 'Condition1', 'Condition2', 'BldgType', 'HouseStyle', 'RoofStyle', 'RoofMatl', 'ExterQual', 'ExterCond', 'Foundation', 'Heating', 'HeatingQC', 'CentralAir', 'KitchenQual', 'Functional', 'PavedDrive', 'SaleType', 'SaleCondition']\n",
      "\n",
      "Categorical columns that will be dropped from the dataset: ['Exterior1st', 'Neighborhood', 'Exterior2nd']\n"
     ]
    }
   ],
   "source": [
    "# Columns that will be one-hot encoded\n",
    "low_cardinality_cols = [col for col in object_cols if X_train[col].nunique() < 10]\n",
    "\n",
    "# Columns that will be dropped from the dataset\n",
    "high_cardinality_cols = list(set(object_cols)-set(low_cardinality_cols))\n",
    "\n",
    "print('Categorical columns that will be one-hot encoded:', low_cardinality_cols)\n",
    "print('\\nCategorical columns that will be dropped from the dataset:', high_cardinality_cols)"
   ]
  },
  {
   "cell_type": "markdown",
   "id": "5907af42",
   "metadata": {
    "papermill": {
     "duration": 0.02983,
     "end_time": "2021-08-17T08:09:08.477894",
     "exception": false,
     "start_time": "2021-08-17T08:09:08.448064",
     "status": "completed"
    },
    "tags": []
   },
   "source": [
    "# Step 4: One-hot encoding\n",
    "\n",
    "Use the next code cell to one-hot encode the data in `X_train` and `X_valid`.  Set the preprocessed DataFrames to `OH_X_train` and `OH_X_valid`, respectively.  \n",
    "- The full list of categorical columns in the dataset can be found in the Python list `object_cols`.\n",
    "- You should only one-hot encode the categorical columns in `low_cardinality_cols`.  All other categorical columns should be dropped from the dataset. "
   ]
  },
  {
   "cell_type": "code",
   "execution_count": 22,
   "id": "9b14d4bc",
   "metadata": {
    "execution": {
     "iopub.execute_input": "2021-08-17T08:09:08.542655Z",
     "iopub.status.busy": "2021-08-17T08:09:08.541766Z",
     "iopub.status.idle": "2021-08-17T08:09:08.577481Z",
     "shell.execute_reply": "2021-08-17T08:09:08.576925Z",
     "shell.execute_reply.started": "2021-08-17T08:08:25.645445Z"
    },
    "papermill": {
     "duration": 0.069768,
     "end_time": "2021-08-17T08:09:08.577631",
     "exception": false,
     "start_time": "2021-08-17T08:09:08.507863",
     "status": "completed"
    },
    "tags": []
   },
   "outputs": [
    {
     "data": {
      "application/javascript": [
       "parent.postMessage({\"jupyterEvent\": \"custom.exercise_interaction\", \"data\": {\"outcomeType\": 1, \"valueTowardsCompletion\": 0.5, \"interactionType\": 1, \"questionType\": 2, \"questionId\": \"4_OneHot\", \"learnToolsVersion\": \"0.3.4\", \"failureMessage\": \"\", \"exceptionClass\": \"\", \"trace\": \"\"}}, \"*\")"
      ],
      "text/plain": [
       "<IPython.core.display.Javascript object>"
      ]
     },
     "metadata": {},
     "output_type": "display_data"
    },
    {
     "data": {
      "text/markdown": [
       "<span style=\"color:#33cc33\">Correct</span>"
      ],
      "text/plain": [
       "Correct"
      ]
     },
     "metadata": {},
     "output_type": "display_data"
    }
   ],
   "source": [
    "from sklearn.preprocessing import OneHotEncoder\n",
    "\n",
    "# Apply one-hot encoder to each column with categorical data\n",
    "OH_encoder = OneHotEncoder(handle_unknown='ignore', sparse=False)\n",
    "OH_cols_train = pd.DataFrame(OH_encoder.fit_transform(X_train[low_cardinality_cols]))\n",
    "OH_cols_valid = pd.DataFrame(OH_encoder.transform(X_valid[low_cardinality_cols]))\n",
    "\n",
    "# One-hot encoding removed index; put it back\n",
    "OH_cols_train.index = X_train.index\n",
    "OH_cols_valid.index = X_valid.index\n",
    "\n",
    "# Remove categorical columns (will replace with one-hot encoding)\n",
    "num_X_train = X_train.drop(object_cols, axis=1)\n",
    "num_X_valid = X_valid.drop(object_cols, axis=1)\n",
    "\n",
    "# Add one-hot encoded columns to numerical features\n",
    "OH_X_train = pd.concat([num_X_train, OH_cols_train], axis=1)\n",
    "OH_X_valid = pd.concat([num_X_valid, OH_cols_valid], axis=1)\n",
    "# Check your answer\n",
    "step_4.check()"
   ]
  },
  {
   "cell_type": "code",
   "execution_count": 23,
   "id": "fd6d5a31",
   "metadata": {
    "execution": {
     "iopub.execute_input": "2021-08-17T08:09:08.642748Z",
     "iopub.status.busy": "2021-08-17T08:09:08.642133Z",
     "iopub.status.idle": "2021-08-17T08:09:08.645101Z",
     "shell.execute_reply": "2021-08-17T08:09:08.645515Z",
     "shell.execute_reply.started": "2021-08-17T08:08:30.003135Z"
    },
    "papermill": {
     "duration": 0.037161,
     "end_time": "2021-08-17T08:09:08.645736",
     "exception": false,
     "start_time": "2021-08-17T08:09:08.608575",
     "status": "completed"
    },
    "tags": []
   },
   "outputs": [],
   "source": [
    "# Lines below will give you a hint or solution code\n",
    "#step_4.hint()\n",
    "#step_4.solution()"
   ]
  },
  {
   "cell_type": "markdown",
   "id": "9313852d",
   "metadata": {
    "papermill": {
     "duration": 0.030374,
     "end_time": "2021-08-17T08:09:08.706784",
     "exception": false,
     "start_time": "2021-08-17T08:09:08.676410",
     "status": "completed"
    },
    "tags": []
   },
   "source": [
    "Run the next code cell to get the MAE for this approach."
   ]
  },
  {
   "cell_type": "code",
   "execution_count": 24,
   "id": "f2dd317f",
   "metadata": {
    "execution": {
     "iopub.execute_input": "2021-08-17T08:09:08.771603Z",
     "iopub.status.busy": "2021-08-17T08:09:08.770975Z",
     "iopub.status.idle": "2021-08-17T08:09:10.708239Z",
     "shell.execute_reply": "2021-08-17T08:09:10.707665Z",
     "shell.execute_reply.started": "2021-08-17T08:08:32.418015Z"
    },
    "papermill": {
     "duration": 1.970732,
     "end_time": "2021-08-17T08:09:10.708373",
     "exception": false,
     "start_time": "2021-08-17T08:09:08.737641",
     "status": "completed"
    },
    "tags": []
   },
   "outputs": [
    {
     "name": "stdout",
     "output_type": "stream",
     "text": [
      "MAE from Approach 3 (One-Hot Encoding):\n",
      "17525.345719178084\n"
     ]
    }
   ],
   "source": [
    "print(\"MAE from Approach 3 (One-Hot Encoding):\") \n",
    "print(score_dataset(OH_X_train, OH_X_valid, y_train, y_valid))"
   ]
  },
  {
   "cell_type": "markdown",
   "id": "3039c495",
   "metadata": {
    "papermill": {
     "duration": 0.031283,
     "end_time": "2021-08-17T08:09:10.771466",
     "exception": false,
     "start_time": "2021-08-17T08:09:10.740183",
     "status": "completed"
    },
    "tags": []
   },
   "source": [
    "# Generate test predictions and submit your results\n",
    "\n",
    "After you complete Step 4, if you'd like to use what you've learned to submit your results to the leaderboard, you'll need to preprocess the test data before generating predictions.\n",
    "\n",
    "**This step is completely optional, and you do not need to submit results to the leaderboard to successfully complete the exercise.**\n",
    "\n",
    "Check out the previous exercise if you need help with remembering how to [join the competition](https://www.kaggle.com/c/home-data-for-ml-course) or save your results to CSV.  Once you have generated a file with your results, follow the instructions below:\n",
    "1. Begin by clicking on the **Save Version** button in the top right corner of the window.  This will generate a pop-up window.  \n",
    "2. Ensure that the **Save and Run All** option is selected, and then click on the **Save** button.\n",
    "3. This generates a window in the bottom left corner of the notebook.  After it has finished running, click on the number to the right of the **Save Version** button.  This pulls up a list of versions on the right of the screen.  Click on the ellipsis **(...)** to the right of the most recent version, and select **Open in Viewer**.  This brings you into view mode of the same page. You will need to scroll down to get back to these instructions.\n",
    "4. Click on the **Output** tab on the right of the screen.  Then, click on the file you would like to submit, and click on the blue **Submit** button to submit your results to the leaderboard.\n",
    "\n",
    "You have now successfully submitted to the competition!\n",
    "\n",
    "If you want to keep working to improve your performance, select the **Edit** button in the top right of the screen. Then you can change your code and repeat the process. There's a lot of room to improve, and you will climb up the leaderboard as you work.\n"
   ]
  },
  {
   "cell_type": "code",
   "execution_count": 25,
   "id": "53858779",
   "metadata": {
    "execution": {
     "iopub.execute_input": "2021-08-17T08:09:10.837501Z",
     "iopub.status.busy": "2021-08-17T08:09:10.836897Z",
     "iopub.status.idle": "2021-08-17T08:09:10.839800Z",
     "shell.execute_reply": "2021-08-17T08:09:10.840253Z"
    },
    "papermill": {
     "duration": 0.037411,
     "end_time": "2021-08-17T08:09:10.840420",
     "exception": false,
     "start_time": "2021-08-17T08:09:10.803009",
     "status": "completed"
    },
    "tags": []
   },
   "outputs": [],
   "source": [
    "# (Optional) Your code here"
   ]
  },
  {
   "cell_type": "markdown",
   "id": "e8317c45",
   "metadata": {
    "papermill": {
     "duration": 0.031866,
     "end_time": "2021-08-17T08:09:10.904741",
     "exception": false,
     "start_time": "2021-08-17T08:09:10.872875",
     "status": "completed"
    },
    "tags": []
   },
   "source": [
    "# Keep going\n",
    "\n",
    "With missing value handling and categorical encoding, your modeling process is getting complex. This complexity gets worse when you want to save your model to use in the future. The key to managing this complexity is something called **pipelines**. \n",
    "\n",
    "**[Learn to use pipelines](https://www.kaggle.com/alexisbcook/pipelines)** to preprocess datasets with categorical variables, missing values and any other messiness your data throws at you."
   ]
  },
  {
   "cell_type": "markdown",
   "id": "09136214",
   "metadata": {
    "papermill": {
     "duration": 0.033058,
     "end_time": "2021-08-17T08:09:10.970094",
     "exception": false,
     "start_time": "2021-08-17T08:09:10.937036",
     "status": "completed"
    },
    "tags": []
   },
   "source": [
    "---\n",
    "\n",
    "\n",
    "\n",
    "\n",
    "*Have questions or comments? Visit the [Learn Discussion forum](https://www.kaggle.com/learn-forum/161289) to chat with other Learners.*"
   ]
  }
 ],
 "metadata": {
  "kernelspec": {
   "display_name": "Python 3",
   "language": "python",
   "name": "python3"
  },
  "language_info": {
   "codemirror_mode": {
    "name": "ipython",
    "version": 3
   },
   "file_extension": ".py",
   "mimetype": "text/x-python",
   "name": "python",
   "nbconvert_exporter": "python",
   "pygments_lexer": "ipython3",
   "version": "3.7.10"
  },
  "papermill": {
   "default_parameters": {},
   "duration": 17.874212,
   "end_time": "2021-08-17T08:09:12.532731",
   "environment_variables": {},
   "exception": null,
   "input_path": "__notebook__.ipynb",
   "output_path": "__notebook__.ipynb",
   "parameters": {},
   "start_time": "2021-08-17T08:08:54.658519",
   "version": "2.3.3"
  }
 },
 "nbformat": 4,
 "nbformat_minor": 5
}
