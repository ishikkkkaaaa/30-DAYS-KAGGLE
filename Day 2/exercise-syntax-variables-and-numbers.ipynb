{
 "cells": [
  {
   "cell_type": "markdown",
   "id": "31c0cd68",
   "metadata": {
    "papermill": {
     "duration": 0.021511,
     "end_time": "2021-08-04T07:54:33.458088",
     "exception": false,
     "start_time": "2021-08-04T07:54:33.436577",
     "status": "completed"
    },
    "tags": []
   },
   "source": [
    "**This notebook is an exercise in the [Python](https://www.kaggle.com/learn/python) course.  You can reference the tutorial at [this link](https://www.kaggle.com/colinmorris/hello-python).**\n",
    "\n",
    "---\n"
   ]
  },
  {
   "cell_type": "markdown",
   "id": "c084a1b3",
   "metadata": {
    "papermill": {
     "duration": 0.019914,
     "end_time": "2021-08-04T07:54:33.499301",
     "exception": false,
     "start_time": "2021-08-04T07:54:33.479387",
     "status": "completed"
    },
    "tags": []
   },
   "source": [
    "Welcome to your first set of Python coding problems.  If this is your first time using Kaggle Notebooks, welcome! \n",
    "\n",
    "Notebooks are composed of blocks (called \"cells\") of text and code. Each of these is editable, though you'll mainly be editing the code cells to answer some questions.\n",
    "\n",
    "To get started, try running the code cell below (by pressing the ► button, or clicking on the cell and pressing ctrl+enter on your keyboard)."
   ]
  },
  {
   "cell_type": "code",
   "execution_count": 1,
   "id": "8afc9ac2",
   "metadata": {
    "execution": {
     "iopub.execute_input": "2021-08-04T07:54:33.554245Z",
     "iopub.status.busy": "2021-08-04T07:54:33.553441Z",
     "iopub.status.idle": "2021-08-04T07:54:33.558429Z",
     "shell.execute_reply": "2021-08-04T07:54:33.557520Z",
     "shell.execute_reply.started": "2021-08-04T07:47:08.085239Z"
    },
    "papermill": {
     "duration": 0.039138,
     "end_time": "2021-08-04T07:54:33.558687",
     "exception": false,
     "start_time": "2021-08-04T07:54:33.519549",
     "status": "completed"
    },
    "tags": []
   },
   "outputs": [
    {
     "name": "stdout",
     "output_type": "stream",
     "text": [
      "You've successfully run some Python code\n",
      "Congratulations!\n"
     ]
    }
   ],
   "source": [
    "print(\"You've successfully run some Python code\")\n",
    "print(\"Congratulations!\")"
   ]
  },
  {
   "cell_type": "markdown",
   "id": "7a8725fb",
   "metadata": {
    "papermill": {
     "duration": 0.020257,
     "end_time": "2021-08-04T07:54:33.601039",
     "exception": false,
     "start_time": "2021-08-04T07:54:33.580782",
     "status": "completed"
    },
    "tags": []
   },
   "source": [
    "Try adding another line of code in the cell above and re-running it. \n",
    "\n",
    "Now let's get a little fancier:  Add a new code cell by clicking on an existing code cell, hitting the escape key, and then hitting the `a` or `b` key.  The `a` key will add a cell above the current cell, and `b` adds a cell below.\n",
    "\n",
    "Great! Now you know how to use Notebooks.\n",
    "\n",
    "Each hands-on exercise starts by setting up our feedback and code checking mechanism. Run the code cell below to do that. Then you'll be ready to move on to question 0."
   ]
  },
  {
   "cell_type": "code",
   "execution_count": 2,
   "id": "447d1d2f",
   "metadata": {
    "_kg_hide-input": true,
    "_kg_hide-output": true,
    "execution": {
     "iopub.execute_input": "2021-08-04T07:54:33.650864Z",
     "iopub.status.busy": "2021-08-04T07:54:33.650082Z",
     "iopub.status.idle": "2021-08-04T07:54:33.804350Z",
     "shell.execute_reply": "2021-08-04T07:54:33.803643Z",
     "shell.execute_reply.started": "2021-08-04T07:47:08.094381Z"
    },
    "papermill": {
     "duration": 0.181659,
     "end_time": "2021-08-04T07:54:33.804510",
     "exception": false,
     "start_time": "2021-08-04T07:54:33.622851",
     "status": "completed"
    },
    "tags": []
   },
   "outputs": [
    {
     "name": "stdout",
     "output_type": "stream",
     "text": [
      "Setup complete! You're ready to start question 0.\n"
     ]
    }
   ],
   "source": [
    "from learntools.core import binder; binder.bind(globals())\n",
    "from learntools.python.ex1 import *\n",
    "print(\"Setup complete! You're ready to start question 0.\")"
   ]
  },
  {
   "cell_type": "markdown",
   "id": "80b0ac6f",
   "metadata": {
    "papermill": {
     "duration": 0.020695,
     "end_time": "2021-08-04T07:54:33.846452",
     "exception": false,
     "start_time": "2021-08-04T07:54:33.825757",
     "status": "completed"
    },
    "tags": []
   },
   "source": [
    "# 0.\n",
    "\n",
    "*This is a silly question intended as an introduction to the format we use for hands-on exercises throughout all Kaggle courses.*\n",
    "\n",
    "**What is your favorite color? **\n",
    "\n",
    "To complete this question, create a variable called `color` in the cell below with an appropriate value. The function call `q0.check()` (which we've already provided in the cell below) will check your answer."
   ]
  },
  {
   "cell_type": "code",
   "execution_count": 3,
   "id": "ffa6f88a",
   "metadata": {
    "execution": {
     "iopub.execute_input": "2021-08-04T07:54:33.893582Z",
     "iopub.status.busy": "2021-08-04T07:54:33.892902Z",
     "iopub.status.idle": "2021-08-04T07:54:33.901281Z",
     "shell.execute_reply": "2021-08-04T07:54:33.901805Z",
     "shell.execute_reply.started": "2021-08-04T07:48:23.972446Z"
    },
    "papermill": {
     "duration": 0.03424,
     "end_time": "2021-08-04T07:54:33.901986",
     "exception": false,
     "start_time": "2021-08-04T07:54:33.867746",
     "status": "completed"
    },
    "tags": []
   },
   "outputs": [
    {
     "data": {
      "application/javascript": [
       "parent.postMessage({\"jupyterEvent\": \"custom.exercise_interaction\", \"data\": {\"outcomeType\": 1, \"valueTowardsCompletion\": 0.25, \"interactionType\": 1, \"questionType\": 2, \"questionId\": \"0_ExerciseFormatTutorial\", \"learnToolsVersion\": \"0.3.4\", \"failureMessage\": \"\", \"exceptionClass\": \"\", \"trace\": \"\"}}, \"*\")"
      ],
      "text/plain": [
       "<IPython.core.display.Javascript object>"
      ]
     },
     "metadata": {},
     "output_type": "display_data"
    },
    {
     "data": {
      "text/markdown": [
       "<span style=\"color:#33cc33\">Correct:</span> What?! You got it right without needing a hint or anything? Drats. Well hey, you should still continue to the next step to get some practice asking for a hint and checking solutions. (Even though you obviously don't need any help here.)"
      ],
      "text/plain": [
       "Correct: What?! You got it right without needing a hint or anything? Drats. Well hey, you should still continue to the next step to get some practice asking for a hint and checking solutions. (Even though you obviously don't need any help here.)"
      ]
     },
     "metadata": {},
     "output_type": "display_data"
    }
   ],
   "source": [
    "# create a variable called color with an appropriate value on the line below\n",
    "# (Remember, strings in Python must be enclosed in 'single' or \"double\" quotes)\n",
    "____\n",
    "color = \"blue\"\n",
    "# Check your answer\n",
    "q0.check()"
   ]
  },
  {
   "cell_type": "markdown",
   "id": "f1485d60",
   "metadata": {
    "papermill": {
     "duration": 0.023231,
     "end_time": "2021-08-04T07:54:33.949256",
     "exception": false,
     "start_time": "2021-08-04T07:54:33.926025",
     "status": "completed"
    },
    "tags": []
   },
   "source": [
    "Didn't get the right answer? How do you not even know your own favorite color?!\n",
    "\n",
    "Delete the `#` in the line below to make one of the lines run. You can choose between getting a hint or the full answer by choosing which line to remove the `#` from. \n",
    "\n",
    "Removing the `#` is called uncommenting, because it changes that line from a \"comment\" which Python doesn't run to code, which Python does run."
   ]
  },
  {
   "cell_type": "code",
   "execution_count": 4,
   "id": "d3fa93f1",
   "metadata": {
    "execution": {
     "iopub.execute_input": "2021-08-04T07:54:34.000113Z",
     "iopub.status.busy": "2021-08-04T07:54:33.999395Z",
     "iopub.status.idle": "2021-08-04T07:54:34.003450Z",
     "shell.execute_reply": "2021-08-04T07:54:34.004170Z",
     "shell.execute_reply.started": "2021-08-04T07:48:27.664948Z"
    },
    "papermill": {
     "duration": 0.032258,
     "end_time": "2021-08-04T07:54:34.004374",
     "exception": false,
     "start_time": "2021-08-04T07:54:33.972116",
     "status": "completed"
    },
    "tags": []
   },
   "outputs": [],
   "source": [
    "#q0.hint()\n",
    "#q0.solution()"
   ]
  },
  {
   "cell_type": "markdown",
   "id": "910fb753",
   "metadata": {
    "papermill": {
     "duration": 0.022891,
     "end_time": "2021-08-04T07:54:34.055679",
     "exception": false,
     "start_time": "2021-08-04T07:54:34.032788",
     "status": "completed"
    },
    "tags": []
   },
   "source": [
    "The upcoming questions work the same way. The only thing that will change are the question numbers. For the next question, you'll call `q1.check()`, `q1.hint()`, `q1.solution()`, for question 2, you'll call `q2.check()`, and so on."
   ]
  },
  {
   "cell_type": "markdown",
   "id": "51996bc9",
   "metadata": {
    "papermill": {
     "duration": 0.023034,
     "end_time": "2021-08-04T07:54:34.103136",
     "exception": false,
     "start_time": "2021-08-04T07:54:34.080102",
     "status": "completed"
    },
    "tags": []
   },
   "source": [
    "<hr/>\n",
    "\n",
    "# 1.\n",
    "\n",
    "Complete the code below. In case it's helpful, here is the table of available arithmetic operations:\n",
    "\n",
    "\n",
    "\n",
    "| Operator     | Name           | Description                                            |\n",
    "|--------------|----------------|--------------------------------------------------------|\n",
    "| ``a + b``    | Addition       | Sum of ``a`` and ``b``                                 |\n",
    "| ``a - b``    | Subtraction    | Difference of ``a`` and ``b``                          |\n",
    "| ``a * b``    | Multiplication | Product of ``a`` and ``b``                             |\n",
    "| ``a / b``    | True division  | Quotient of ``a`` and ``b``                            |\n",
    "| ``a // b``   | Floor division | Quotient of ``a`` and ``b``, removing fractional parts |\n",
    "| ``a % b``    | Modulus        | Integer remainder after division of ``a`` by ``b``     |\n",
    "| ``a ** b``   | Exponentiation | ``a`` raised to the power of ``b``                     |\n",
    "| ``-a``       | Negation       | The negative of ``a``                                  |\n",
    "\n",
    "<span style=\"display:none\"></span>\n"
   ]
  },
  {
   "cell_type": "code",
   "execution_count": 5,
   "id": "6a688ac3",
   "metadata": {
    "execution": {
     "iopub.execute_input": "2021-08-04T07:54:34.151192Z",
     "iopub.status.busy": "2021-08-04T07:54:34.150485Z",
     "iopub.status.idle": "2021-08-04T07:54:34.159876Z",
     "shell.execute_reply": "2021-08-04T07:54:34.159190Z",
     "shell.execute_reply.started": "2021-08-04T07:49:18.235085Z"
    },
    "papermill": {
     "duration": 0.034498,
     "end_time": "2021-08-04T07:54:34.160030",
     "exception": false,
     "start_time": "2021-08-04T07:54:34.125532",
     "status": "completed"
    },
    "tags": []
   },
   "outputs": [
    {
     "data": {
      "application/javascript": [
       "parent.postMessage({\"jupyterEvent\": \"custom.exercise_interaction\", \"data\": {\"outcomeType\": 1, \"valueTowardsCompletion\": 0.25, \"interactionType\": 1, \"questionType\": 1, \"questionId\": \"1_CircleArea\", \"learnToolsVersion\": \"0.3.4\", \"failureMessage\": \"\", \"exceptionClass\": \"\", \"trace\": \"\"}}, \"*\")"
      ],
      "text/plain": [
       "<IPython.core.display.Javascript object>"
      ]
     },
     "metadata": {},
     "output_type": "display_data"
    },
    {
     "data": {
      "text/markdown": [
       "<span style=\"color:#33cc33\">Correct</span>"
      ],
      "text/plain": [
       "Correct"
      ]
     },
     "metadata": {},
     "output_type": "display_data"
    }
   ],
   "source": [
    "pi = 3.14159 # approximate\n",
    "diameter = 3\n",
    "\n",
    "# Create a variable called 'radius' equal to half the diameter\n",
    "____\n",
    "radius = diameter/2\n",
    "\n",
    "# Create a variable called 'area', using the formula for the area of a circle: pi times the radius squared\n",
    "area = pi*(radius **2)\n",
    "____\n",
    "\n",
    "# Check your answer\n",
    "q1.check()"
   ]
  },
  {
   "cell_type": "code",
   "execution_count": 6,
   "id": "cab96a1f",
   "metadata": {
    "execution": {
     "iopub.execute_input": "2021-08-04T07:54:34.212613Z",
     "iopub.status.busy": "2021-08-04T07:54:34.211621Z",
     "iopub.status.idle": "2021-08-04T07:54:34.214893Z",
     "shell.execute_reply": "2021-08-04T07:54:34.214091Z"
    },
    "papermill": {
     "duration": 0.031894,
     "end_time": "2021-08-04T07:54:34.215055",
     "exception": false,
     "start_time": "2021-08-04T07:54:34.183161",
     "status": "completed"
    },
    "tags": []
   },
   "outputs": [],
   "source": [
    "# Uncomment and run the lines below if you need help.\n",
    "#q1.hint()\n",
    "#q1.solution()"
   ]
  },
  {
   "cell_type": "markdown",
   "id": "28864fe2",
   "metadata": {
    "papermill": {
     "duration": 0.022866,
     "end_time": "2021-08-04T07:54:34.261135",
     "exception": false,
     "start_time": "2021-08-04T07:54:34.238269",
     "status": "completed"
    },
    "tags": []
   },
   "source": [
    "<hr/>\n",
    "\n",
    "# 2.\n",
    "\n",
    "Add code to the following cell to swap variables `a` and `b` (so that `a` refers to the object previously referred to by `b` and vice versa)."
   ]
  },
  {
   "cell_type": "code",
   "execution_count": 7,
   "id": "453b2556",
   "metadata": {
    "execution": {
     "iopub.execute_input": "2021-08-04T07:54:34.317519Z",
     "iopub.status.busy": "2021-08-04T07:54:34.316763Z",
     "iopub.status.idle": "2021-08-04T07:54:34.321016Z",
     "shell.execute_reply": "2021-08-04T07:54:34.321512Z",
     "shell.execute_reply.started": "2021-08-04T07:51:32.968950Z"
    },
    "papermill": {
     "duration": 0.034928,
     "end_time": "2021-08-04T07:54:34.321680",
     "exception": false,
     "start_time": "2021-08-04T07:54:34.286752",
     "status": "completed"
    },
    "tags": []
   },
   "outputs": [
    {
     "data": {
      "application/javascript": [
       "parent.postMessage({\"jupyterEvent\": \"custom.exercise_interaction\", \"data\": {\"outcomeType\": 1, \"valueTowardsCompletion\": 0.25, \"interactionType\": 1, \"questionType\": 2, \"questionId\": \"2_VariableSwap\", \"learnToolsVersion\": \"0.3.4\", \"failureMessage\": \"\", \"exceptionClass\": \"\", \"trace\": \"\"}}, \"*\")"
      ],
      "text/plain": [
       "<IPython.core.display.Javascript object>"
      ]
     },
     "metadata": {},
     "output_type": "display_data"
    },
    {
     "data": {
      "text/markdown": [
       "<span style=\"color:#33cc33\">Correct:</span> \n",
       "\n",
       "The most straightforward solution is to use a third variable to temporarily store one of the old values. e.g.:\n",
       "\n",
       "    tmp = a\n",
       "    a = b\n",
       "    b = tmp\n",
       "\n",
       "If you've read lots of Python code, you might have seen the following trick to swap two variables in one line:\n",
       "\n",
       "    a, b = b, a\n",
       "\n",
       "We'll demystify this bit of Python magic later when we talk about *tuples*."
      ],
      "text/plain": [
       "Correct: \n",
       "\n",
       "The most straightforward solution is to use a third variable to temporarily store one of the old values. e.g.:\n",
       "\n",
       "    tmp = a\n",
       "    a = b\n",
       "    b = tmp\n",
       "\n",
       "If you've read lots of Python code, you might have seen the following trick to swap two variables in one line:\n",
       "\n",
       "    a, b = b, a\n",
       "\n",
       "We'll demystify this bit of Python magic later when we talk about *tuples*."
      ]
     },
     "metadata": {},
     "output_type": "display_data"
    }
   ],
   "source": [
    "########### Setup code - don't touch this part ######################\n",
    "# If you're curious, these are examples of lists. We'll talk about \n",
    "# them in depth a few lessons from now. For now, just know that they're\n",
    "# yet another type of Python object, like int or float.\n",
    "a = [1, 2, 3]\n",
    "b = [3, 2, 1]\n",
    "q2.store_original_ids()\n",
    "######################################################################\n",
    "\n",
    "# Your code goes here. Swap the values to which a and b refer.\n",
    "# If you get stuck, you can always uncomment one or both of the lines in\n",
    "# the next cell for a hint, or to peek at the solution.\n",
    "\n",
    "tmp=a\n",
    "a=b\n",
    "b=tmp\n",
    "\n",
    "######################################################################\n",
    "\n",
    "# Check your answer\n",
    "q2.check()"
   ]
  },
  {
   "cell_type": "code",
   "execution_count": 8,
   "id": "b689cad0",
   "metadata": {
    "execution": {
     "iopub.execute_input": "2021-08-04T07:54:34.373466Z",
     "iopub.status.busy": "2021-08-04T07:54:34.372813Z",
     "iopub.status.idle": "2021-08-04T07:54:34.376578Z",
     "shell.execute_reply": "2021-08-04T07:54:34.377085Z"
    },
    "papermill": {
     "duration": 0.031146,
     "end_time": "2021-08-04T07:54:34.377275",
     "exception": false,
     "start_time": "2021-08-04T07:54:34.346129",
     "status": "completed"
    },
    "tags": []
   },
   "outputs": [],
   "source": [
    "#q2.hint()"
   ]
  },
  {
   "cell_type": "code",
   "execution_count": 9,
   "id": "e13046e5",
   "metadata": {
    "execution": {
     "iopub.execute_input": "2021-08-04T07:54:34.433223Z",
     "iopub.status.busy": "2021-08-04T07:54:34.432522Z",
     "iopub.status.idle": "2021-08-04T07:54:34.435726Z",
     "shell.execute_reply": "2021-08-04T07:54:34.436208Z",
     "shell.execute_reply.started": "2021-08-04T07:50:12.076919Z"
    },
    "papermill": {
     "duration": 0.032991,
     "end_time": "2021-08-04T07:54:34.436390",
     "exception": false,
     "start_time": "2021-08-04T07:54:34.403399",
     "status": "completed"
    },
    "tags": []
   },
   "outputs": [],
   "source": [
    "#q2.solution()"
   ]
  },
  {
   "cell_type": "markdown",
   "id": "423c7398",
   "metadata": {
    "papermill": {
     "duration": 0.024497,
     "end_time": "2021-08-04T07:54:34.487654",
     "exception": false,
     "start_time": "2021-08-04T07:54:34.463157",
     "status": "completed"
    },
    "tags": []
   },
   "source": [
    "<hr/>\n",
    "\n",
    "# 3a.\n",
    "\n",
    "Add parentheses to the following expression so that it evaluates to 1."
   ]
  },
  {
   "cell_type": "code",
   "execution_count": 10,
   "id": "9b4ad45e",
   "metadata": {
    "execution": {
     "iopub.execute_input": "2021-08-04T07:54:34.539122Z",
     "iopub.status.busy": "2021-08-04T07:54:34.538391Z",
     "iopub.status.idle": "2021-08-04T07:54:34.542993Z",
     "shell.execute_reply": "2021-08-04T07:54:34.543453Z",
     "shell.execute_reply.started": "2021-08-04T07:52:25.445249Z"
    },
    "papermill": {
     "duration": 0.031847,
     "end_time": "2021-08-04T07:54:34.543630",
     "exception": false,
     "start_time": "2021-08-04T07:54:34.511783",
     "status": "completed"
    },
    "tags": []
   },
   "outputs": [
    {
     "data": {
      "text/plain": [
       "1"
      ]
     },
     "execution_count": 10,
     "metadata": {},
     "output_type": "execute_result"
    }
   ],
   "source": [
    "(5 - 3) // 2\n",
    "#bodmas"
   ]
  },
  {
   "cell_type": "code",
   "execution_count": 11,
   "id": "63c79f72",
   "metadata": {
    "execution": {
     "iopub.execute_input": "2021-08-04T07:54:34.597512Z",
     "iopub.status.busy": "2021-08-04T07:54:34.596474Z",
     "iopub.status.idle": "2021-08-04T07:54:34.598995Z",
     "shell.execute_reply": "2021-08-04T07:54:34.599436Z"
    },
    "papermill": {
     "duration": 0.031476,
     "end_time": "2021-08-04T07:54:34.599612",
     "exception": false,
     "start_time": "2021-08-04T07:54:34.568136",
     "status": "completed"
    },
    "tags": []
   },
   "outputs": [],
   "source": [
    "#q3.a.hint()"
   ]
  },
  {
   "cell_type": "code",
   "execution_count": 12,
   "id": "4ac2d815",
   "metadata": {
    "execution": {
     "iopub.execute_input": "2021-08-04T07:54:34.653837Z",
     "iopub.status.busy": "2021-08-04T07:54:34.652859Z",
     "iopub.status.idle": "2021-08-04T07:54:34.660279Z",
     "shell.execute_reply": "2021-08-04T07:54:34.660771Z",
     "shell.execute_reply.started": "2021-08-04T07:52:31.256597Z"
    },
    "papermill": {
     "duration": 0.036203,
     "end_time": "2021-08-04T07:54:34.660949",
     "exception": false,
     "start_time": "2021-08-04T07:54:34.624746",
     "status": "completed"
    },
    "tags": []
   },
   "outputs": [
    {
     "data": {
      "application/javascript": [
       "parent.postMessage({\"jupyterEvent\": \"custom.exercise_interaction\", \"data\": {\"interactionType\": 3, \"questionType\": 4, \"questionId\": \"3.1_ArithmeticParensEasy\", \"learnToolsVersion\": \"0.3.4\", \"valueTowardsCompletion\": 0.0, \"failureMessage\": \"\", \"exceptionClass\": \"\", \"trace\": \"\", \"outcomeType\": 4}}, \"*\")"
      ],
      "text/plain": [
       "<IPython.core.display.Javascript object>"
      ]
     },
     "metadata": {},
     "output_type": "display_data"
    },
    {
     "data": {
      "text/markdown": [
       "<span style=\"color:#33cc99\">Solution:</span> \n",
       "```python\n",
       "(5 - 3) // 2\n",
       "```"
      ],
      "text/plain": [
       "Solution: \n",
       "```python\n",
       "(5 - 3) // 2\n",
       "```"
      ]
     },
     "metadata": {},
     "output_type": "display_data"
    }
   ],
   "source": [
    "# Check your answer (Run this code cell to receive credit!)\n",
    "q3.a.solution()"
   ]
  },
  {
   "cell_type": "markdown",
   "id": "d97a010d",
   "metadata": {
    "papermill": {
     "duration": 0.026996,
     "end_time": "2021-08-04T07:54:34.713860",
     "exception": false,
     "start_time": "2021-08-04T07:54:34.686864",
     "status": "completed"
    },
    "tags": []
   },
   "source": [
    "# 3b.  <span title=\"A bit spicy\" style=\"color: darkgreen \">🌶️</span>\n",
    "\n",
    "<small>Questions, like this one, marked a spicy pepper are a bit harder.</small>\n",
    "\n",
    "Add parentheses to the following expression so that it evaluates to 0."
   ]
  },
  {
   "cell_type": "code",
   "execution_count": 13,
   "id": "04df1c26",
   "metadata": {
    "execution": {
     "iopub.execute_input": "2021-08-04T07:54:34.769132Z",
     "iopub.status.busy": "2021-08-04T07:54:34.768080Z",
     "iopub.status.idle": "2021-08-04T07:54:34.773975Z",
     "shell.execute_reply": "2021-08-04T07:54:34.774451Z",
     "shell.execute_reply.started": "2021-08-04T07:53:05.592552Z"
    },
    "papermill": {
     "duration": 0.035444,
     "end_time": "2021-08-04T07:54:34.774642",
     "exception": false,
     "start_time": "2021-08-04T07:54:34.739198",
     "status": "completed"
    },
    "tags": []
   },
   "outputs": [
    {
     "data": {
      "text/plain": [
       "0"
      ]
     },
     "execution_count": 13,
     "metadata": {},
     "output_type": "execute_result"
    }
   ],
   "source": [
    "(8 - 3) * (2 - (1 + 1))"
   ]
  },
  {
   "cell_type": "code",
   "execution_count": 14,
   "id": "95b60a68",
   "metadata": {
    "execution": {
     "iopub.execute_input": "2021-08-04T07:54:34.830627Z",
     "iopub.status.busy": "2021-08-04T07:54:34.829672Z",
     "iopub.status.idle": "2021-08-04T07:54:34.833198Z",
     "shell.execute_reply": "2021-08-04T07:54:34.833644Z"
    },
    "papermill": {
     "duration": 0.033347,
     "end_time": "2021-08-04T07:54:34.833837",
     "exception": false,
     "start_time": "2021-08-04T07:54:34.800490",
     "status": "completed"
    },
    "tags": []
   },
   "outputs": [],
   "source": [
    "#q3.b.hint()"
   ]
  },
  {
   "cell_type": "code",
   "execution_count": 15,
   "id": "c40deba7",
   "metadata": {
    "execution": {
     "iopub.execute_input": "2021-08-04T07:54:34.889749Z",
     "iopub.status.busy": "2021-08-04T07:54:34.888747Z",
     "iopub.status.idle": "2021-08-04T07:54:34.896187Z",
     "shell.execute_reply": "2021-08-04T07:54:34.896637Z",
     "shell.execute_reply.started": "2021-08-04T07:52:52.743260Z"
    },
    "papermill": {
     "duration": 0.036903,
     "end_time": "2021-08-04T07:54:34.896853",
     "exception": false,
     "start_time": "2021-08-04T07:54:34.859950",
     "status": "completed"
    },
    "tags": []
   },
   "outputs": [
    {
     "data": {
      "application/javascript": [
       "parent.postMessage({\"jupyterEvent\": \"custom.exercise_interaction\", \"data\": {\"interactionType\": 3, \"questionType\": 4, \"questionId\": \"3.2_ArithmeticParensHard\", \"learnToolsVersion\": \"0.3.4\", \"valueTowardsCompletion\": 0.0, \"failureMessage\": \"\", \"exceptionClass\": \"\", \"trace\": \"\", \"outcomeType\": 4}}, \"*\")"
      ],
      "text/plain": [
       "<IPython.core.display.Javascript object>"
      ]
     },
     "metadata": {},
     "output_type": "display_data"
    },
    {
     "data": {
      "text/markdown": [
       "<span style=\"color:#33cc99\">Solution:</span> `(8 - 3) * (2 - (1 + 1))` is one solution. There may be others."
      ],
      "text/plain": [
       "Solution: `(8 - 3) * (2 - (1 + 1))` is one solution. There may be others."
      ]
     },
     "metadata": {},
     "output_type": "display_data"
    }
   ],
   "source": [
    "# Check your answer (Run this code cell to receive credit!)\n",
    "q3.b.solution()"
   ]
  },
  {
   "cell_type": "markdown",
   "id": "33530c61",
   "metadata": {
    "papermill": {
     "duration": 0.028643,
     "end_time": "2021-08-04T07:54:34.953061",
     "exception": false,
     "start_time": "2021-08-04T07:54:34.924418",
     "status": "completed"
    },
    "tags": []
   },
   "source": [
    "<hr/>\n",
    "\n",
    "# 4. \n",
    "Alice, Bob and Carol have agreed to pool their Halloween candy and split it evenly among themselves.\n",
    "For the sake of their friendship, any candies left over will be smashed. For example, if they collectively\n",
    "bring home 91 candies, they'll take 30 each and smash 1.\n",
    "\n",
    "Write an arithmetic expression below to calculate how many candies they must smash for a given haul."
   ]
  },
  {
   "cell_type": "code",
   "execution_count": 16,
   "id": "126cdbbc",
   "metadata": {
    "execution": {
     "iopub.execute_input": "2021-08-04T07:54:35.014290Z",
     "iopub.status.busy": "2021-08-04T07:54:35.013021Z",
     "iopub.status.idle": "2021-08-04T07:54:35.022111Z",
     "shell.execute_reply": "2021-08-04T07:54:35.022638Z",
     "shell.execute_reply.started": "2021-08-04T07:54:06.761243Z"
    },
    "papermill": {
     "duration": 0.042039,
     "end_time": "2021-08-04T07:54:35.022865",
     "exception": false,
     "start_time": "2021-08-04T07:54:34.980826",
     "status": "completed"
    },
    "tags": []
   },
   "outputs": [
    {
     "data": {
      "application/javascript": [
       "parent.postMessage({\"jupyterEvent\": \"custom.exercise_interaction\", \"data\": {\"outcomeType\": 1, \"valueTowardsCompletion\": 0.25, \"interactionType\": 1, \"questionType\": 1, \"questionId\": \"4_CandySplitting\", \"learnToolsVersion\": \"0.3.4\", \"failureMessage\": \"\", \"exceptionClass\": \"\", \"trace\": \"\"}}, \"*\")"
      ],
      "text/plain": [
       "<IPython.core.display.Javascript object>"
      ]
     },
     "metadata": {},
     "output_type": "display_data"
    },
    {
     "data": {
      "text/markdown": [
       "<span style=\"color:#33cc33\">Correct</span>"
      ],
      "text/plain": [
       "Correct"
      ]
     },
     "metadata": {},
     "output_type": "display_data"
    }
   ],
   "source": [
    "# Variables representing the number of candies collected by alice, bob, and carol\n",
    "alice_candies = 121\n",
    "bob_candies = 77\n",
    "carol_candies = 109\n",
    "\n",
    "# Your code goes here! Replace the right-hand side of this assignment with an expression\n",
    "\n",
    "# involving alice_candies, bob_candies, and carol_candies\n",
    "to_smash = (alice_candies + bob_candies + carol_candies) % 3\n",
    "\n",
    "# Check your answer\n",
    "q4.check()"
   ]
  },
  {
   "cell_type": "code",
   "execution_count": 17,
   "id": "b7ce1df6",
   "metadata": {
    "execution": {
     "iopub.execute_input": "2021-08-04T07:54:35.089290Z",
     "iopub.status.busy": "2021-08-04T07:54:35.088246Z",
     "iopub.status.idle": "2021-08-04T07:54:35.092091Z",
     "shell.execute_reply": "2021-08-04T07:54:35.092782Z",
     "shell.execute_reply.started": "2021-08-04T07:53:27.195942Z"
    },
    "papermill": {
     "duration": 0.038774,
     "end_time": "2021-08-04T07:54:35.092980",
     "exception": false,
     "start_time": "2021-08-04T07:54:35.054206",
     "status": "completed"
    },
    "tags": []
   },
   "outputs": [],
   "source": [
    "#q4.hint()\n",
    "#q4.solution()"
   ]
  },
  {
   "cell_type": "markdown",
   "id": "1f343073",
   "metadata": {
    "papermill": {
     "duration": 0.029742,
     "end_time": "2021-08-04T07:54:35.153795",
     "exception": false,
     "start_time": "2021-08-04T07:54:35.124053",
     "status": "completed"
    },
    "tags": []
   },
   "source": [
    "# Keep Going\n",
    "\n",
    "Next up, you'll **[learn to write new functions and understand functions others write](https://www.kaggle.com/colinmorris/functions-and-getting-help)**. This will make you at least 10 times more productive as a Python programmer. "
   ]
  },
  {
   "cell_type": "markdown",
   "id": "87980f2a",
   "metadata": {
    "papermill": {
     "duration": 0.027647,
     "end_time": "2021-08-04T07:54:35.210227",
     "exception": false,
     "start_time": "2021-08-04T07:54:35.182580",
     "status": "completed"
    },
    "tags": []
   },
   "source": [
    "---\n",
    "\n",
    "\n",
    "\n",
    "\n",
    "*Have questions or comments? Visit the [Learn Discussion forum](https://www.kaggle.com/learn-forum/161283) to chat with other Learners.*"
   ]
  }
 ],
 "metadata": {
  "kernelspec": {
   "display_name": "Python 3",
   "language": "python",
   "name": "python3"
  },
  "language_info": {
   "codemirror_mode": {
    "name": "ipython",
    "version": 3
   },
   "file_extension": ".py",
   "mimetype": "text/x-python",
   "name": "python",
   "nbconvert_exporter": "python",
   "pygments_lexer": "ipython3",
   "version": "3.7.10"
  },
  "papermill": {
   "default_parameters": {},
   "duration": 12.982493,
   "end_time": "2021-08-04T07:54:36.949361",
   "environment_variables": {},
   "exception": null,
   "input_path": "__notebook__.ipynb",
   "output_path": "__notebook__.ipynb",
   "parameters": {},
   "start_time": "2021-08-04T07:54:23.966868",
   "version": "2.3.3"
  }
 },
 "nbformat": 4,
 "nbformat_minor": 5
}
